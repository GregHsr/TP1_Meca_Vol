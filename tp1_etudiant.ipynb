{
 "cells": [
  {
   "cell_type": "markdown",
   "id": "dc256521",
   "metadata": {},
   "source": [
    "## Mécanique du vol, 2022-2023\n",
    "#### Université Paul Sabatier, ENSEEIHT\n",
    "\n",
    "Auteur: Christophe.Airiau@imft.fr\n",
    "\n",
    "<table style=\"width: 100%\">\n",
    "    <colgroup>\n",
    "       <col span=\"1\" style=\"width: 40%;\">\n",
    "       <col span=\"1\" style=\"width: 20%;\">\n",
    "       <col span=\"1\" style=\"width: 45%;\">\n",
    "    </colgroup>\n",
    "    <tbody>\n",
    "        <tr>\n",
    "            <td style=\"background-color: #ffffff\"><img src=\"Images/fsi.png\" width=\"200\"></td>\n",
    "            <td style=\"background-color: #ffffff\"> </td>\n",
    "            <td style=\"background-color: #ffffff\"><img src=\"Images/N7.png\" width=\"200\"></td>\n",
    "        </tr>\n",
    "    </tbody>\n",
    "</table>\n",
    " \n",
    " \n"
   ]
  },
  {
   "cell_type": "markdown",
   "id": "05f0a8aa",
   "metadata": {},
   "source": [
    "\n",
    "# **<span style=\"color:orange\">Physique du vol: atmosphère, pression, vitesse d'un avion</span>**\n",
    "\n",
    "\n",
    "Vous êtes un ingénieur, et vous devez écrire un programme embarqué pour calculer la vitesse d'un avion. Ce programme sera\n",
    "entré dans l'ordinateur de bord. \n",
    "\n",
    "Comment faire ?  Quelles informations sont utiles ?\n",
    "\n",
    " <img src=\"Images/screen.png\" width=\"600\">\n",
    "\n",
    "\n",
    "# Références  \n",
    "\n",
    "1. [*Gudmundsson*]: S. Gudmundsson. **General aviation aircraft design: applied methods and procedures**. Elsevier, 2014.\n",
    "\n",
    "2. [*Dole*]: E. Dole, J. E. Lewis, J. R. Badick, B. A. Johnson. **Flight theory and aerodynamics**, 2rd edition, Wiley, 2017\n",
    "\n",
    "3. [*Roskam*]: J. Roskam, C.-T. E. Lan. **Airplane aerodynamics and performance**. DARcorporation. 1997\n",
    "4. Pilot's Handbook of Aeronautical Knowledge, Federal Aviation Administration, FAA-H-8083-25B, 2016\n",
    "5. http://www.luizmonteiro.com/Altimetry.aspx#TrueAirspeed\n",
    "6. https://en.wikipedia.org/wiki/Calibrated_airspeed\n",
    "7. https://en.wikipedia.org/wiki/Airspeed_indicator\n",
    "8. https://en.wikipedia.org/wiki/True_airspeed\n",
    "9. https://agodemar.github.io/FlightMechanics4Pilots/mypages/airspeeds/\n",
    "10. https://www.lavionnaire.fr/InstVolMach.php\n",
    "\n",
    "# Introduction\n",
    "\n",
    "On pourrait croire que c'est simple de déterminer la vitesse d'un avion en vol.  \n",
    "\n",
    "En fait non, il a trop de variations possibles, entre altitude, masse volumique, température, pression, \n",
    "valeur de la gravité, ... en fonction de la position sur Terre, de la météo, des courants aériens etc ...\n",
    "\n",
    "Il y a toujours des incertitudes sur la vitesse, mais aussi sur la position exacte.\n",
    "\n",
    "Il faut prendre en compte des corrections de compressibilité\n",
    "\n",
    "On va voir celà maintenant, c'est un peu compliqué. On n'étudiera pas toutes les situations malgré tout !\n",
    "\n",
    "On utilise ici les relations qui sont intégrées dans les ordinateurs de bord des avions modernes.\n",
    "\n",
    "Dans la suite on utilisera le module que j'ai créé qui s'appelle `flight`\n",
    " \n",
    "# **<span style=\"color:red\">Objectifs</span>**\n",
    "\n",
    "1. Comprendre le modèle atmosphère\n",
    "2. Comprendre les différentes pressions et vitesses\n",
    "3. Retrouver la vitesse vraie\n",
    "4. Comprendre la mesure de vitesse pour un avion supersonique\n",
    " \n",
    "<div class=\"alert alert-block alert-danger\">\n",
    "<b>ATTENTION </b>\n",
    "    \n",
    "Le TP est très long, il faudra certainement le continuer à la maison.\n",
    "</div> \n",
    "\n",
    "Les questions sont indiquées en couleur <span style=\"color:magenta\">magenta</span>.\n",
    "Il est demandé d'écrire les réponses dans ce fichier. \n",
    "On pourra toujours ajouter une cellule \"Markdown\" pour des commentaires supplémentaires.\n",
    " \n",
    "<div class=\"alert alert-block alert-danger\">\n",
    "<b>PYTHON </b>\n",
    "    \n",
    "Ouvrir les fichiers source Python dans notebooks ou vscode ou spyder, ou ...\n",
    "\n",
    "Il faudra aller récupérer des méthodes (fonctions) dans la suite.\n",
    "</div> \n",
    "\n",
    "# **<span style=\"color:red\">I - Atmosphère avion</span>**\n",
    "\n",
    "\n",
    "##  **<span style=\"color:blue\">I-1 Les constantes </span>**\n",
    "\n",
    "D'abord il faut donner les constantes utiles, pour les gaz en général, pour l'air et pour la gravité. \n",
    "Ici on met de la précision. \n",
    "\n",
    "Regarder le code Python\n",
    "\n",
    "**Constantes pour l'atmosphère**:"
   ]
  },
  {
   "cell_type": "code",
   "execution_count": 8,
   "id": "0b0765a6",
   "metadata": {
    "tags": []
   },
   "outputs": [],
   "source": [
    "### imports and local module \n",
    "import numpy as np\n",
    "import matplotlib.pyplot as plt\n",
    "from flight.flight_physics import *\n",
    "%matplotlib notebook\n",
    "%matplotlib inline"
   ]
  },
  {
   "cell_type": "code",
   "execution_count": 2,
   "id": "0196e9b6",
   "metadata": {
    "tags": []
   },
   "outputs": [
    {
     "name": "stdout",
     "output_type": "stream",
     "text": [
      "r de l'air    : 287.0521\n",
      "p_ref /r      : 352.9847\n",
      "k_T -0.0065\n"
     ]
    }
   ],
   "source": [
    "# Exemple d'implémentation demandées dans la suite\n",
    "r_ref, k_T, p_ref  = define_constantes()\n",
    "print(\"k_T\", k_T)"
   ]
  },
  {
   "cell_type": "markdown",
   "id": "8cc18454",
   "metadata": {},
   "source": [
    "On remarque que l'appel du module lance automatiquement le calcul des constantes de l'air."
   ]
  },
  {
   "cell_type": "markdown",
   "id": "cadf8103",
   "metadata": {},
   "source": [
    "##  **<span style=\"color:blue\">I-2 Modèle de l'atmosphère standard </span>**\n",
    "\n",
    "\n",
    "L'air étant un gaz parfait il obéit à la loi:\n",
    "\n",
    "<div class=\"alert alert-block alert-danger\">\n",
    "<b>Loi d'état des gaz parfaits </b>\n",
    "$$ p = \\rho r T $$\n",
    "</div>\n",
    "\n",
    "L'atmosphère de référence ISA est donnée au niveau de la mer avec:\n",
    "\n",
    "* une température de $15^\\circ$~C.\n",
    "* une pression atmosphérique de $p_0 = 101 325$ Pa. \n",
    " \n",
    "\n",
    "L'atmosphère comprend différentes couches. La plupart des avions volent en dessous de 11 000 m.\n",
    "Dans cette couche la températude varie de -6.5 degrés Celcius par kilomètres qu'on note $k_T$\n",
    "\n",
    "Après intégration de la pression hydrostatique en prenant en compte les variations de température en fonction de l'altitude $h$ en mètre:\n",
    "on trouve :\n",
    "\n",
    "<div class=\"alert alert-block alert-info\">\n",
    "<b> Atmosphère standard pour $h \\leqslant 11~000$ m </b>\n",
    "\n",
    "$$\n",
    " \\dfrac{T}{T_0}= \\Theta = 1 + \\kappa h, \\qquad \\kappa = \\dfrac{k_T}{T_{ref}+15}\n",
    "$$\n",
    " \n",
    "$$\n",
    " \\dfrac p p_0 = \\delta = (1 + \\kappa h)^{5.2561}, \\qquad  \\qquad   \\dfrac \\rho \\rho_0 = \\sigma = (1 + \\kappa h)^{4.2561}\n",
    "$$\n",
    "avec l'altitude $h$ en m.\n",
    "\n",
    "\n",
    "L'exposant pour la pression est donné par:\n",
    "$$n = \\dfrac{-g_0}{r k_T} $$\n",
    "\n",
    "</div>    \n",
    "    \n",
    "**Dans la suite je n'ai pas implémenté l'atmosphère pour une altitude supérieure à 11 000 m**, mais ce n'est pas difficile.    \n",
    "    \n",
    "###  **<span style=\"color:magenta\">Vérifier la valeur numérique de l'exposant</span>**"
   ]
  },
  {
   "cell_type": "code",
   "execution_count": 3,
   "id": "cd8afa6d",
   "metadata": {
    "tags": []
   },
   "outputs": [
    {
     "name": "stdout",
     "output_type": "stream",
     "text": [
      "n      : 5.25589\n",
      "m      : 34.16331 \t Gudmundsson:  34.163195\n"
     ]
    }
   ],
   "source": [
    "# calcul de n:\n",
    "# to do \n",
    "\n",
    "# Solution manuelle\n",
    "# from flight.general import g_ref, R_ref, T_ref\n",
    "# n = -g_ref / (r_ref * k_T)\n",
    "#print(\"n      : %.5f\" % n)\n",
    "\n",
    "# Solution avec la fonction set_exponents\n",
    "n, m = set_exponents(r_ref, k_T)\n"
   ]
  },
  {
   "cell_type": "markdown",
   "id": "c92488e2",
   "metadata": {},
   "source": [
    "* Expliquer la différence ici:\n",
    "   \n",
    "   **Réponse:**\n",
    "   \n",
    "   Les valeurs sont différentes car les variables utilisées dans le calcul dépendent de l'altitude.\n",
    "   \n",
    "\n",
    "\n",
    "* Pourquoi on a $n-1$ comme exposant pour la masse volumique ?\n",
    "\n",
    "   **Réponse:**\n",
    "   \n",
    "   Cela vient de la loi des gaz parfaits, la masse volumique vaut $$ \\rho = \\dfrac{p}{r T}  $$ d'où (d'après les fromules ci_dessus) : $$ \\dfrac{\\rho}{\\rho _0} = \\dfrac{(1 + \\kappa h)^n}{1 + \\kappa h} $$ \n"
   ]
  },
  {
   "cell_type": "markdown",
   "id": "81336908",
   "metadata": {},
   "source": [
    "###  **<span style=\"color:magenta\">Calculer la masse volumique $ \\rho _0 $ à 0.001 près </span>**"
   ]
  },
  {
   "cell_type": "code",
   "execution_count": 4,
   "id": "d25db3ae",
   "metadata": {
    "tags": []
   },
   "outputs": [
    {
     "name": "stdout",
     "output_type": "stream",
     "text": [
      "rho_0    1.225 kg/m^3\n",
      "\n",
      "============================================================\n",
      "# \t sea level\n",
      "============================================================\n",
      "  p [Pa]     rho [kg/m^3]   a [m/s]   T [K]     theta [°]\n",
      "------------------------------------------------------------\n",
      " 101325.00     1.2250       340.29    288.15      15.00 \n",
      "============================================================\n"
     ]
    }
   ],
   "source": [
    "# to run only\n",
    "p_0, T_0, rho_0 = set_sea_level_state(r_ref, t_0=15)\n",
    "display_state(\"sea level\", p_0, rho_0, T_0, sound_velocity(T_0))"
   ]
  },
  {
   "cell_type": "markdown",
   "id": "5d0ab57b",
   "metadata": {},
   "source": [
    "###  **<span style=\"color:magenta\">Calculer les rapports, la température, masse volumique, la pression à 8000 m d'altitude</span>**\n",
    "\n",
    "1. On trouve sur internet des calculateurs, prendre l'exemple ci-dessous et donner les valeurs récupérées\n",
    "\n",
    "https://www.translatorscafe.com/unit-converter/fr-FR/calculator/altitude/\n",
    "\n",
    "$$\\rho =   0.5258 ~kg/m^3 \\qquad p = 35.652~kPa \\qquad T = 236.2 ~K \\qquad T = -36.9~ °C  $$\n",
    "\n",
    "2. Utiliser la fonction donnée précédemment et coder dans le cadre ci-dessous, pour retrouver les rapports $\\Theta, \\delta$ et $\\sigma$ et calculer $T$, $p$ et $\\rho$.\n",
    "\n",
    "3. Retrouve-t-on les valeurs de la table d'internet ? \n",
    "    \n",
    "    **Réponse:**\n",
    "    \n",
    "    On retrouve les valeurs de la table d'internet à 3 chiffres significatifs près.\n",
    "    "
   ]
  },
  {
   "cell_type": "code",
   "execution_count": 5,
   "id": "3e322410",
   "metadata": {
    "tags": []
   },
   "outputs": [
    {
     "name": "stdout",
     "output_type": "stream",
     "text": [
      "theta : 0.8195384348429637\n",
      "delta : 0.35134157116149733\n",
      "sigma : 0.42870664293959543\n",
      "T : 236.14999999999998\n",
      "p : 35599.68469793872\n",
      "rho : 0.5251670888649894\n"
     ]
    }
   ],
   "source": [
    "# to do\n",
    "\n",
    "# Utilisation de la fonction atmos pour calculer les rapports\n",
    "\n",
    "theta , delta, sigma = atmos(8000)    \n",
    "print(\"theta :\", theta)\n",
    "print(\"delta :\", delta)\n",
    "print(\"sigma :\", sigma)\n",
    "\n",
    "# Comparaison des résulats\n",
    "\n",
    "T = T_0 * theta\n",
    "p = p_0 * delta\n",
    "rho = rho_0 * sigma\n",
    "\n",
    "print(\"T :\", T)\n",
    "print(\"p :\", p)\n",
    "print(\"rho :\", rho)"
   ]
  },
  {
   "cell_type": "markdown",
   "id": "6399531a",
   "metadata": {},
   "source": [
    "Le code Python fourni sur le site officiel de l'atmosphère standard donne:\n",
    "$$\n",
    "\\sigma = 0.4292,\\qquad \\delta = 0.3519 \n",
    "$$\n"
   ]
  },
  {
   "cell_type": "markdown",
   "id": "ee314681",
   "metadata": {},
   "source": [
    "**Commentaires ?**\n",
    "\n",
    "...\n"
   ]
  },
  {
   "cell_type": "markdown",
   "id": "e55042af",
   "metadata": {},
   "source": [
    "##  **<span style=\"color:blue\">I-3 Déviation de l'atmosphère standard </span>**\n",
    "\n",
    "* La température réelle dévie de celle de l'atmosphère standard. On peut le prendre en compte en corrigeant la température et on peut écrire pour le masse volumique:\n",
    "\n",
    "<div class=\"alert alert-block alert-info\">\n",
    "<b> Correction en température de l'atmosphère ISA </b>\n",
    "\n",
    "$$\n",
    "\\rho = \\dfrac{p}{r T} =  \\dfrac{p_0}{r}  \\dfrac{(1 + \\kappa h)^n}{T+\\Delta T_{ISA}} = \\dfrac{352.6~(1 + \\kappa h)^{5.2571}}{T+\\Delta T_{ISA}}\n",
    "$$\n",
    " </div>\n",
    "Gundmundsson a pris r = 286.9  alors qu'on utilise r = 287.05\n",
    "\n",
    "* Prise en compte du taux d'humidité:\n",
    "\n",
    "<div class=\"alert alert-block alert-info\">\n",
    "<b> Correction due à l'humidité </b>\n",
    "    \n",
    "$$\n",
    "\\rho = \\rho_{std}\\dfrac{1 + x}{1 +1.609 x}\n",
    "$$\n",
    "    \n",
    "* Air sec : $x=0$,  Pluie   : $x=1$\n",
    "    \n",
    "* $ \\rho_{std}$ est la masse volumique calculée par temps sec\n",
    " </div>\n",
    " \n",
    " ###  **<span style=\"color:magenta\">Tracer le taux d'humité. </span>**\n",
    "\n",
    "Quelle est la correction en cas de pluie ?\n",
    "\n",
    "Quelle est la correction pour x=0.5 ?\n",
    "\n",
    "Quelle est le taux d'hummidité pour une correction de 0.8 ?\n",
    "  "
   ]
  },
  {
   "cell_type": "code",
   "execution_count": 16,
   "id": "7c08ac01",
   "metadata": {
    "tags": []
   },
   "outputs": [
    {
     "data": {
      "application/javascript": "/* Put everything inside the global mpl namespace */\n/* global mpl */\nwindow.mpl = {};\n\nmpl.get_websocket_type = function () {\n    if (typeof WebSocket !== 'undefined') {\n        return WebSocket;\n    } else if (typeof MozWebSocket !== 'undefined') {\n        return MozWebSocket;\n    } else {\n        alert(\n            'Your browser does not have WebSocket support. ' +\n                'Please try Chrome, Safari or Firefox ≥ 6. ' +\n                'Firefox 4 and 5 are also supported but you ' +\n                'have to enable WebSockets in about:config.'\n        );\n    }\n};\n\nmpl.figure = function (figure_id, websocket, ondownload, parent_element) {\n    this.id = figure_id;\n\n    this.ws = websocket;\n\n    this.supports_binary = this.ws.binaryType !== undefined;\n\n    if (!this.supports_binary) {\n        var warnings = document.getElementById('mpl-warnings');\n        if (warnings) {\n            warnings.style.display = 'block';\n            warnings.textContent =\n                'This browser does not support binary websocket messages. ' +\n                'Performance may be slow.';\n        }\n    }\n\n    this.imageObj = new Image();\n\n    this.context = undefined;\n    this.message = undefined;\n    this.canvas = undefined;\n    this.rubberband_canvas = undefined;\n    this.rubberband_context = undefined;\n    this.format_dropdown = undefined;\n\n    this.image_mode = 'full';\n\n    this.root = document.createElement('div');\n    this.root.setAttribute('style', 'display: inline-block');\n    this._root_extra_style(this.root);\n\n    parent_element.appendChild(this.root);\n\n    this._init_header(this);\n    this._init_canvas(this);\n    this._init_toolbar(this);\n\n    var fig = this;\n\n    this.waiting = false;\n\n    this.ws.onopen = function () {\n        fig.send_message('supports_binary', { value: fig.supports_binary });\n        fig.send_message('send_image_mode', {});\n        if (fig.ratio !== 1) {\n            fig.send_message('set_device_pixel_ratio', {\n                device_pixel_ratio: fig.ratio,\n            });\n        }\n        fig.send_message('refresh', {});\n    };\n\n    this.imageObj.onload = function () {\n        if (fig.image_mode === 'full') {\n            // Full images could contain transparency (where diff images\n            // almost always do), so we need to clear the canvas so that\n            // there is no ghosting.\n            fig.context.clearRect(0, 0, fig.canvas.width, fig.canvas.height);\n        }\n        fig.context.drawImage(fig.imageObj, 0, 0);\n    };\n\n    this.imageObj.onunload = function () {\n        fig.ws.close();\n    };\n\n    this.ws.onmessage = this._make_on_message_function(this);\n\n    this.ondownload = ondownload;\n};\n\nmpl.figure.prototype._init_header = function () {\n    var titlebar = document.createElement('div');\n    titlebar.classList =\n        'ui-dialog-titlebar ui-widget-header ui-corner-all ui-helper-clearfix';\n    var titletext = document.createElement('div');\n    titletext.classList = 'ui-dialog-title';\n    titletext.setAttribute(\n        'style',\n        'width: 100%; text-align: center; padding: 3px;'\n    );\n    titlebar.appendChild(titletext);\n    this.root.appendChild(titlebar);\n    this.header = titletext;\n};\n\nmpl.figure.prototype._canvas_extra_style = function (_canvas_div) {};\n\nmpl.figure.prototype._root_extra_style = function (_canvas_div) {};\n\nmpl.figure.prototype._init_canvas = function () {\n    var fig = this;\n\n    var canvas_div = (this.canvas_div = document.createElement('div'));\n    canvas_div.setAttribute('tabindex', '0');\n    canvas_div.setAttribute(\n        'style',\n        'border: 1px solid #ddd;' +\n            'box-sizing: content-box;' +\n            'clear: both;' +\n            'min-height: 1px;' +\n            'min-width: 1px;' +\n            'outline: 0;' +\n            'overflow: hidden;' +\n            'position: relative;' +\n            'resize: both;' +\n            'z-index: 2;'\n    );\n\n    function on_keyboard_event_closure(name) {\n        return function (event) {\n            return fig.key_event(event, name);\n        };\n    }\n\n    canvas_div.addEventListener(\n        'keydown',\n        on_keyboard_event_closure('key_press')\n    );\n    canvas_div.addEventListener(\n        'keyup',\n        on_keyboard_event_closure('key_release')\n    );\n\n    this._canvas_extra_style(canvas_div);\n    this.root.appendChild(canvas_div);\n\n    var canvas = (this.canvas = document.createElement('canvas'));\n    canvas.classList.add('mpl-canvas');\n    canvas.setAttribute(\n        'style',\n        'box-sizing: content-box;' +\n            'pointer-events: none;' +\n            'position: relative;' +\n            'z-index: 0;'\n    );\n\n    this.context = canvas.getContext('2d');\n\n    var backingStore =\n        this.context.backingStorePixelRatio ||\n        this.context.webkitBackingStorePixelRatio ||\n        this.context.mozBackingStorePixelRatio ||\n        this.context.msBackingStorePixelRatio ||\n        this.context.oBackingStorePixelRatio ||\n        this.context.backingStorePixelRatio ||\n        1;\n\n    this.ratio = (window.devicePixelRatio || 1) / backingStore;\n\n    var rubberband_canvas = (this.rubberband_canvas = document.createElement(\n        'canvas'\n    ));\n    rubberband_canvas.setAttribute(\n        'style',\n        'box-sizing: content-box;' +\n            'left: 0;' +\n            'pointer-events: none;' +\n            'position: absolute;' +\n            'top: 0;' +\n            'z-index: 1;'\n    );\n\n    // Apply a ponyfill if ResizeObserver is not implemented by browser.\n    if (this.ResizeObserver === undefined) {\n        if (window.ResizeObserver !== undefined) {\n            this.ResizeObserver = window.ResizeObserver;\n        } else {\n            var obs = _JSXTOOLS_RESIZE_OBSERVER({});\n            this.ResizeObserver = obs.ResizeObserver;\n        }\n    }\n\n    this.resizeObserverInstance = new this.ResizeObserver(function (entries) {\n        var nentries = entries.length;\n        for (var i = 0; i < nentries; i++) {\n            var entry = entries[i];\n            var width, height;\n            if (entry.contentBoxSize) {\n                if (entry.contentBoxSize instanceof Array) {\n                    // Chrome 84 implements new version of spec.\n                    width = entry.contentBoxSize[0].inlineSize;\n                    height = entry.contentBoxSize[0].blockSize;\n                } else {\n                    // Firefox implements old version of spec.\n                    width = entry.contentBoxSize.inlineSize;\n                    height = entry.contentBoxSize.blockSize;\n                }\n            } else {\n                // Chrome <84 implements even older version of spec.\n                width = entry.contentRect.width;\n                height = entry.contentRect.height;\n            }\n\n            // Keep the size of the canvas and rubber band canvas in sync with\n            // the canvas container.\n            if (entry.devicePixelContentBoxSize) {\n                // Chrome 84 implements new version of spec.\n                canvas.setAttribute(\n                    'width',\n                    entry.devicePixelContentBoxSize[0].inlineSize\n                );\n                canvas.setAttribute(\n                    'height',\n                    entry.devicePixelContentBoxSize[0].blockSize\n                );\n            } else {\n                canvas.setAttribute('width', width * fig.ratio);\n                canvas.setAttribute('height', height * fig.ratio);\n            }\n            /* This rescales the canvas back to display pixels, so that it\n             * appears correct on HiDPI screens. */\n            canvas.style.width = width + 'px';\n            canvas.style.height = height + 'px';\n\n            rubberband_canvas.setAttribute('width', width);\n            rubberband_canvas.setAttribute('height', height);\n\n            // And update the size in Python. We ignore the initial 0/0 size\n            // that occurs as the element is placed into the DOM, which should\n            // otherwise not happen due to the minimum size styling.\n            if (fig.ws.readyState == 1 && width != 0 && height != 0) {\n                fig.request_resize(width, height);\n            }\n        }\n    });\n    this.resizeObserverInstance.observe(canvas_div);\n\n    function on_mouse_event_closure(name) {\n        /* User Agent sniffing is bad, but WebKit is busted:\n         * https://bugs.webkit.org/show_bug.cgi?id=144526\n         * https://bugs.webkit.org/show_bug.cgi?id=181818\n         * The worst that happens here is that they get an extra browser\n         * selection when dragging, if this check fails to catch them.\n         */\n        var UA = navigator.userAgent;\n        var isWebKit = /AppleWebKit/.test(UA) && !/Chrome/.test(UA);\n        if(isWebKit) {\n            return function (event) {\n                /* This prevents the web browser from automatically changing to\n                 * the text insertion cursor when the button is pressed. We\n                 * want to control all of the cursor setting manually through\n                 * the 'cursor' event from matplotlib */\n                event.preventDefault()\n                return fig.mouse_event(event, name);\n            };\n        } else {\n            return function (event) {\n                return fig.mouse_event(event, name);\n            };\n        }\n    }\n\n    canvas_div.addEventListener(\n        'mousedown',\n        on_mouse_event_closure('button_press')\n    );\n    canvas_div.addEventListener(\n        'mouseup',\n        on_mouse_event_closure('button_release')\n    );\n    canvas_div.addEventListener(\n        'dblclick',\n        on_mouse_event_closure('dblclick')\n    );\n    // Throttle sequential mouse events to 1 every 20ms.\n    canvas_div.addEventListener(\n        'mousemove',\n        on_mouse_event_closure('motion_notify')\n    );\n\n    canvas_div.addEventListener(\n        'mouseenter',\n        on_mouse_event_closure('figure_enter')\n    );\n    canvas_div.addEventListener(\n        'mouseleave',\n        on_mouse_event_closure('figure_leave')\n    );\n\n    canvas_div.addEventListener('wheel', function (event) {\n        if (event.deltaY < 0) {\n            event.step = 1;\n        } else {\n            event.step = -1;\n        }\n        on_mouse_event_closure('scroll')(event);\n    });\n\n    canvas_div.appendChild(canvas);\n    canvas_div.appendChild(rubberband_canvas);\n\n    this.rubberband_context = rubberband_canvas.getContext('2d');\n    this.rubberband_context.strokeStyle = '#000000';\n\n    this._resize_canvas = function (width, height, forward) {\n        if (forward) {\n            canvas_div.style.width = width + 'px';\n            canvas_div.style.height = height + 'px';\n        }\n    };\n\n    // Disable right mouse context menu.\n    canvas_div.addEventListener('contextmenu', function (_e) {\n        event.preventDefault();\n        return false;\n    });\n\n    function set_focus() {\n        canvas.focus();\n        canvas_div.focus();\n    }\n\n    window.setTimeout(set_focus, 100);\n};\n\nmpl.figure.prototype._init_toolbar = function () {\n    var fig = this;\n\n    var toolbar = document.createElement('div');\n    toolbar.classList = 'mpl-toolbar';\n    this.root.appendChild(toolbar);\n\n    function on_click_closure(name) {\n        return function (_event) {\n            return fig.toolbar_button_onclick(name);\n        };\n    }\n\n    function on_mouseover_closure(tooltip) {\n        return function (event) {\n            if (!event.currentTarget.disabled) {\n                return fig.toolbar_button_onmouseover(tooltip);\n            }\n        };\n    }\n\n    fig.buttons = {};\n    var buttonGroup = document.createElement('div');\n    buttonGroup.classList = 'mpl-button-group';\n    for (var toolbar_ind in mpl.toolbar_items) {\n        var name = mpl.toolbar_items[toolbar_ind][0];\n        var tooltip = mpl.toolbar_items[toolbar_ind][1];\n        var image = mpl.toolbar_items[toolbar_ind][2];\n        var method_name = mpl.toolbar_items[toolbar_ind][3];\n\n        if (!name) {\n            /* Instead of a spacer, we start a new button group. */\n            if (buttonGroup.hasChildNodes()) {\n                toolbar.appendChild(buttonGroup);\n            }\n            buttonGroup = document.createElement('div');\n            buttonGroup.classList = 'mpl-button-group';\n            continue;\n        }\n\n        var button = (fig.buttons[name] = document.createElement('button'));\n        button.classList = 'mpl-widget';\n        button.setAttribute('role', 'button');\n        button.setAttribute('aria-disabled', 'false');\n        button.addEventListener('click', on_click_closure(method_name));\n        button.addEventListener('mouseover', on_mouseover_closure(tooltip));\n\n        var icon_img = document.createElement('img');\n        icon_img.src = '_images/' + image + '.png';\n        icon_img.srcset = '_images/' + image + '_large.png 2x';\n        icon_img.alt = tooltip;\n        button.appendChild(icon_img);\n\n        buttonGroup.appendChild(button);\n    }\n\n    if (buttonGroup.hasChildNodes()) {\n        toolbar.appendChild(buttonGroup);\n    }\n\n    var fmt_picker = document.createElement('select');\n    fmt_picker.classList = 'mpl-widget';\n    toolbar.appendChild(fmt_picker);\n    this.format_dropdown = fmt_picker;\n\n    for (var ind in mpl.extensions) {\n        var fmt = mpl.extensions[ind];\n        var option = document.createElement('option');\n        option.selected = fmt === mpl.default_extension;\n        option.innerHTML = fmt;\n        fmt_picker.appendChild(option);\n    }\n\n    var status_bar = document.createElement('span');\n    status_bar.classList = 'mpl-message';\n    toolbar.appendChild(status_bar);\n    this.message = status_bar;\n};\n\nmpl.figure.prototype.request_resize = function (x_pixels, y_pixels) {\n    // Request matplotlib to resize the figure. Matplotlib will then trigger a resize in the client,\n    // which will in turn request a refresh of the image.\n    this.send_message('resize', { width: x_pixels, height: y_pixels });\n};\n\nmpl.figure.prototype.send_message = function (type, properties) {\n    properties['type'] = type;\n    properties['figure_id'] = this.id;\n    this.ws.send(JSON.stringify(properties));\n};\n\nmpl.figure.prototype.send_draw_message = function () {\n    if (!this.waiting) {\n        this.waiting = true;\n        this.ws.send(JSON.stringify({ type: 'draw', figure_id: this.id }));\n    }\n};\n\nmpl.figure.prototype.handle_save = function (fig, _msg) {\n    var format_dropdown = fig.format_dropdown;\n    var format = format_dropdown.options[format_dropdown.selectedIndex].value;\n    fig.ondownload(fig, format);\n};\n\nmpl.figure.prototype.handle_resize = function (fig, msg) {\n    var size = msg['size'];\n    if (size[0] !== fig.canvas.width || size[1] !== fig.canvas.height) {\n        fig._resize_canvas(size[0], size[1], msg['forward']);\n        fig.send_message('refresh', {});\n    }\n};\n\nmpl.figure.prototype.handle_rubberband = function (fig, msg) {\n    var x0 = msg['x0'] / fig.ratio;\n    var y0 = (fig.canvas.height - msg['y0']) / fig.ratio;\n    var x1 = msg['x1'] / fig.ratio;\n    var y1 = (fig.canvas.height - msg['y1']) / fig.ratio;\n    x0 = Math.floor(x0) + 0.5;\n    y0 = Math.floor(y0) + 0.5;\n    x1 = Math.floor(x1) + 0.5;\n    y1 = Math.floor(y1) + 0.5;\n    var min_x = Math.min(x0, x1);\n    var min_y = Math.min(y0, y1);\n    var width = Math.abs(x1 - x0);\n    var height = Math.abs(y1 - y0);\n\n    fig.rubberband_context.clearRect(\n        0,\n        0,\n        fig.canvas.width / fig.ratio,\n        fig.canvas.height / fig.ratio\n    );\n\n    fig.rubberband_context.strokeRect(min_x, min_y, width, height);\n};\n\nmpl.figure.prototype.handle_figure_label = function (fig, msg) {\n    // Updates the figure title.\n    fig.header.textContent = msg['label'];\n};\n\nmpl.figure.prototype.handle_cursor = function (fig, msg) {\n    fig.canvas_div.style.cursor = msg['cursor'];\n};\n\nmpl.figure.prototype.handle_message = function (fig, msg) {\n    fig.message.textContent = msg['message'];\n};\n\nmpl.figure.prototype.handle_draw = function (fig, _msg) {\n    // Request the server to send over a new figure.\n    fig.send_draw_message();\n};\n\nmpl.figure.prototype.handle_image_mode = function (fig, msg) {\n    fig.image_mode = msg['mode'];\n};\n\nmpl.figure.prototype.handle_history_buttons = function (fig, msg) {\n    for (var key in msg) {\n        if (!(key in fig.buttons)) {\n            continue;\n        }\n        fig.buttons[key].disabled = !msg[key];\n        fig.buttons[key].setAttribute('aria-disabled', !msg[key]);\n    }\n};\n\nmpl.figure.prototype.handle_navigate_mode = function (fig, msg) {\n    if (msg['mode'] === 'PAN') {\n        fig.buttons['Pan'].classList.add('active');\n        fig.buttons['Zoom'].classList.remove('active');\n    } else if (msg['mode'] === 'ZOOM') {\n        fig.buttons['Pan'].classList.remove('active');\n        fig.buttons['Zoom'].classList.add('active');\n    } else {\n        fig.buttons['Pan'].classList.remove('active');\n        fig.buttons['Zoom'].classList.remove('active');\n    }\n};\n\nmpl.figure.prototype.updated_canvas_event = function () {\n    // Called whenever the canvas gets updated.\n    this.send_message('ack', {});\n};\n\n// A function to construct a web socket function for onmessage handling.\n// Called in the figure constructor.\nmpl.figure.prototype._make_on_message_function = function (fig) {\n    return function socket_on_message(evt) {\n        if (evt.data instanceof Blob) {\n            var img = evt.data;\n            if (img.type !== 'image/png') {\n                /* FIXME: We get \"Resource interpreted as Image but\n                 * transferred with MIME type text/plain:\" errors on\n                 * Chrome.  But how to set the MIME type?  It doesn't seem\n                 * to be part of the websocket stream */\n                img.type = 'image/png';\n            }\n\n            /* Free the memory for the previous frames */\n            if (fig.imageObj.src) {\n                (window.URL || window.webkitURL).revokeObjectURL(\n                    fig.imageObj.src\n                );\n            }\n\n            fig.imageObj.src = (window.URL || window.webkitURL).createObjectURL(\n                img\n            );\n            fig.updated_canvas_event();\n            fig.waiting = false;\n            return;\n        } else if (\n            typeof evt.data === 'string' &&\n            evt.data.slice(0, 21) === 'data:image/png;base64'\n        ) {\n            fig.imageObj.src = evt.data;\n            fig.updated_canvas_event();\n            fig.waiting = false;\n            return;\n        }\n\n        var msg = JSON.parse(evt.data);\n        var msg_type = msg['type'];\n\n        // Call the  \"handle_{type}\" callback, which takes\n        // the figure and JSON message as its only arguments.\n        try {\n            var callback = fig['handle_' + msg_type];\n        } catch (e) {\n            console.log(\n                \"No handler for the '\" + msg_type + \"' message type: \",\n                msg\n            );\n            return;\n        }\n\n        if (callback) {\n            try {\n                // console.log(\"Handling '\" + msg_type + \"' message: \", msg);\n                callback(fig, msg);\n            } catch (e) {\n                console.log(\n                    \"Exception inside the 'handler_\" + msg_type + \"' callback:\",\n                    e,\n                    e.stack,\n                    msg\n                );\n            }\n        }\n    };\n};\n\n\n/*\n * return a copy of an object with only non-object keys\n * we need this to avoid circular references\n * https://stackoverflow.com/a/24161582/3208463\n */\nfunction simpleKeys(original) {\n    return Object.keys(original).reduce(function (obj, key) {\n        if (typeof original[key] !== 'object') {\n            obj[key] = original[key];\n        }\n        return obj;\n    }, {});\n}\n\nmpl.figure.prototype.mouse_event = function (event, name) {\n    if (name === 'button_press') {\n        this.canvas.focus();\n        this.canvas_div.focus();\n    }\n\n    // from https://stackoverflow.com/q/1114465\n    var boundingRect = this.canvas.getBoundingClientRect();\n    var x = (event.clientX - boundingRect.left) * this.ratio;\n    var y = (event.clientY - boundingRect.top) * this.ratio;\n\n    this.send_message(name, {\n        x: x,\n        y: y,\n        button: event.button,\n        step: event.step,\n        guiEvent: simpleKeys(event),\n    });\n\n    return false;\n};\n\nmpl.figure.prototype._key_event_extra = function (_event, _name) {\n    // Handle any extra behaviour associated with a key event\n};\n\nmpl.figure.prototype.key_event = function (event, name) {\n    // Prevent repeat events\n    if (name === 'key_press') {\n        if (event.key === this._key) {\n            return;\n        } else {\n            this._key = event.key;\n        }\n    }\n    if (name === 'key_release') {\n        this._key = null;\n    }\n\n    var value = '';\n    if (event.ctrlKey && event.key !== 'Control') {\n        value += 'ctrl+';\n    }\n    else if (event.altKey && event.key !== 'Alt') {\n        value += 'alt+';\n    }\n    else if (event.shiftKey && event.key !== 'Shift') {\n        value += 'shift+';\n    }\n\n    value += 'k' + event.key;\n\n    this._key_event_extra(event, name);\n\n    this.send_message(name, { key: value, guiEvent: simpleKeys(event) });\n    return false;\n};\n\nmpl.figure.prototype.toolbar_button_onclick = function (name) {\n    if (name === 'download') {\n        this.handle_save(this, null);\n    } else {\n        this.send_message('toolbar_button', { name: name });\n    }\n};\n\nmpl.figure.prototype.toolbar_button_onmouseover = function (tooltip) {\n    this.message.textContent = tooltip;\n};\n\n///////////////// REMAINING CONTENT GENERATED BY embed_js.py /////////////////\n// prettier-ignore\nvar _JSXTOOLS_RESIZE_OBSERVER=function(A){var t,i=new WeakMap,n=new WeakMap,a=new WeakMap,r=new WeakMap,o=new Set;function s(e){if(!(this instanceof s))throw new TypeError(\"Constructor requires 'new' operator\");i.set(this,e)}function h(){throw new TypeError(\"Function is not a constructor\")}function c(e,t,i,n){e=0 in arguments?Number(arguments[0]):0,t=1 in arguments?Number(arguments[1]):0,i=2 in arguments?Number(arguments[2]):0,n=3 in arguments?Number(arguments[3]):0,this.right=(this.x=this.left=e)+(this.width=i),this.bottom=(this.y=this.top=t)+(this.height=n),Object.freeze(this)}function d(){t=requestAnimationFrame(d);var s=new WeakMap,p=new Set;o.forEach((function(t){r.get(t).forEach((function(i){var r=t instanceof window.SVGElement,o=a.get(t),d=r?0:parseFloat(o.paddingTop),f=r?0:parseFloat(o.paddingRight),l=r?0:parseFloat(o.paddingBottom),u=r?0:parseFloat(o.paddingLeft),g=r?0:parseFloat(o.borderTopWidth),m=r?0:parseFloat(o.borderRightWidth),w=r?0:parseFloat(o.borderBottomWidth),b=u+f,F=d+l,v=(r?0:parseFloat(o.borderLeftWidth))+m,W=g+w,y=r?0:t.offsetHeight-W-t.clientHeight,E=r?0:t.offsetWidth-v-t.clientWidth,R=b+v,z=F+W,M=r?t.width:parseFloat(o.width)-R-E,O=r?t.height:parseFloat(o.height)-z-y;if(n.has(t)){var k=n.get(t);if(k[0]===M&&k[1]===O)return}n.set(t,[M,O]);var S=Object.create(h.prototype);S.target=t,S.contentRect=new c(u,d,M,O),s.has(i)||(s.set(i,[]),p.add(i)),s.get(i).push(S)}))})),p.forEach((function(e){i.get(e).call(e,s.get(e),e)}))}return s.prototype.observe=function(i){if(i instanceof window.Element){r.has(i)||(r.set(i,new Set),o.add(i),a.set(i,window.getComputedStyle(i)));var n=r.get(i);n.has(this)||n.add(this),cancelAnimationFrame(t),t=requestAnimationFrame(d)}},s.prototype.unobserve=function(i){if(i instanceof window.Element&&r.has(i)){var n=r.get(i);n.has(this)&&(n.delete(this),n.size||(r.delete(i),o.delete(i))),n.size||r.delete(i),o.size||cancelAnimationFrame(t)}},A.DOMRectReadOnly=c,A.ResizeObserver=s,A.ResizeObserverEntry=h,A}; // eslint-disable-line\nmpl.toolbar_items = [[\"Home\", \"Reset original view\", \"fa fa-home\", \"home\"], [\"Back\", \"Back to previous view\", \"fa fa-arrow-left\", \"back\"], [\"Forward\", \"Forward to next view\", \"fa fa-arrow-right\", \"forward\"], [\"\", \"\", \"\", \"\"], [\"Pan\", \"Left button pans, Right button zooms\\nx/y fixes axis, CTRL fixes aspect\", \"fa fa-arrows\", \"pan\"], [\"Zoom\", \"Zoom to rectangle\\nx/y fixes axis\", \"fa fa-square-o\", \"zoom\"], [\"\", \"\", \"\", \"\"], [\"Download\", \"Download plot\", \"fa fa-floppy-o\", \"download\"]];\n\nmpl.extensions = [\"eps\", \"jpeg\", \"pgf\", \"pdf\", \"png\", \"ps\", \"raw\", \"svg\", \"tif\", \"webp\"];\n\nmpl.default_extension = \"png\";/* global mpl */\n\nvar comm_websocket_adapter = function (comm) {\n    // Create a \"websocket\"-like object which calls the given IPython comm\n    // object with the appropriate methods. Currently this is a non binary\n    // socket, so there is still some room for performance tuning.\n    var ws = {};\n\n    ws.binaryType = comm.kernel.ws.binaryType;\n    ws.readyState = comm.kernel.ws.readyState;\n    function updateReadyState(_event) {\n        if (comm.kernel.ws) {\n            ws.readyState = comm.kernel.ws.readyState;\n        } else {\n            ws.readyState = 3; // Closed state.\n        }\n    }\n    comm.kernel.ws.addEventListener('open', updateReadyState);\n    comm.kernel.ws.addEventListener('close', updateReadyState);\n    comm.kernel.ws.addEventListener('error', updateReadyState);\n\n    ws.close = function () {\n        comm.close();\n    };\n    ws.send = function (m) {\n        //console.log('sending', m);\n        comm.send(m);\n    };\n    // Register the callback with on_msg.\n    comm.on_msg(function (msg) {\n        //console.log('receiving', msg['content']['data'], msg);\n        var data = msg['content']['data'];\n        if (data['blob'] !== undefined) {\n            data = {\n                data: new Blob(msg['buffers'], { type: data['blob'] }),\n            };\n        }\n        // Pass the mpl event to the overridden (by mpl) onmessage function.\n        ws.onmessage(data);\n    });\n    return ws;\n};\n\nmpl.mpl_figure_comm = function (comm, msg) {\n    // This is the function which gets called when the mpl process\n    // starts-up an IPython Comm through the \"matplotlib\" channel.\n\n    var id = msg.content.data.id;\n    // Get hold of the div created by the display call when the Comm\n    // socket was opened in Python.\n    var element = document.getElementById(id);\n    var ws_proxy = comm_websocket_adapter(comm);\n\n    function ondownload(figure, _format) {\n        window.open(figure.canvas.toDataURL());\n    }\n\n    var fig = new mpl.figure(id, ws_proxy, ondownload, element);\n\n    // Call onopen now - mpl needs it, as it is assuming we've passed it a real\n    // web socket which is closed, not our websocket->open comm proxy.\n    ws_proxy.onopen();\n\n    fig.parent_element = element;\n    fig.cell_info = mpl.find_output_cell(\"<div id='\" + id + \"'></div>\");\n    if (!fig.cell_info) {\n        console.error('Failed to find cell for figure', id, fig);\n        return;\n    }\n    fig.cell_info[0].output_area.element.on(\n        'cleared',\n        { fig: fig },\n        fig._remove_fig_handler\n    );\n};\n\nmpl.figure.prototype.handle_close = function (fig, msg) {\n    var width = fig.canvas.width / fig.ratio;\n    fig.cell_info[0].output_area.element.off(\n        'cleared',\n        fig._remove_fig_handler\n    );\n    fig.resizeObserverInstance.unobserve(fig.canvas_div);\n\n    // Update the output cell to use the data from the current canvas.\n    fig.push_to_output();\n    var dataURL = fig.canvas.toDataURL();\n    // Re-enable the keyboard manager in IPython - without this line, in FF,\n    // the notebook keyboard shortcuts fail.\n    IPython.keyboard_manager.enable();\n    fig.parent_element.innerHTML =\n        '<img src=\"' + dataURL + '\" width=\"' + width + '\">';\n    fig.close_ws(fig, msg);\n};\n\nmpl.figure.prototype.close_ws = function (fig, msg) {\n    fig.send_message('closing', msg);\n    // fig.ws.close()\n};\n\nmpl.figure.prototype.push_to_output = function (_remove_interactive) {\n    // Turn the data on the canvas into data in the output cell.\n    var width = this.canvas.width / this.ratio;\n    var dataURL = this.canvas.toDataURL();\n    this.cell_info[1]['text/html'] =\n        '<img src=\"' + dataURL + '\" width=\"' + width + '\">';\n};\n\nmpl.figure.prototype.updated_canvas_event = function () {\n    // Tell IPython that the notebook contents must change.\n    IPython.notebook.set_dirty(true);\n    this.send_message('ack', {});\n    var fig = this;\n    // Wait a second, then push the new image to the DOM so\n    // that it is saved nicely (might be nice to debounce this).\n    setTimeout(function () {\n        fig.push_to_output();\n    }, 1000);\n};\n\nmpl.figure.prototype._init_toolbar = function () {\n    var fig = this;\n\n    var toolbar = document.createElement('div');\n    toolbar.classList = 'btn-toolbar';\n    this.root.appendChild(toolbar);\n\n    function on_click_closure(name) {\n        return function (_event) {\n            return fig.toolbar_button_onclick(name);\n        };\n    }\n\n    function on_mouseover_closure(tooltip) {\n        return function (event) {\n            if (!event.currentTarget.disabled) {\n                return fig.toolbar_button_onmouseover(tooltip);\n            }\n        };\n    }\n\n    fig.buttons = {};\n    var buttonGroup = document.createElement('div');\n    buttonGroup.classList = 'btn-group';\n    var button;\n    for (var toolbar_ind in mpl.toolbar_items) {\n        var name = mpl.toolbar_items[toolbar_ind][0];\n        var tooltip = mpl.toolbar_items[toolbar_ind][1];\n        var image = mpl.toolbar_items[toolbar_ind][2];\n        var method_name = mpl.toolbar_items[toolbar_ind][3];\n\n        if (!name) {\n            /* Instead of a spacer, we start a new button group. */\n            if (buttonGroup.hasChildNodes()) {\n                toolbar.appendChild(buttonGroup);\n            }\n            buttonGroup = document.createElement('div');\n            buttonGroup.classList = 'btn-group';\n            continue;\n        }\n\n        button = fig.buttons[name] = document.createElement('button');\n        button.classList = 'btn btn-default';\n        button.href = '#';\n        button.title = name;\n        button.innerHTML = '<i class=\"fa ' + image + ' fa-lg\"></i>';\n        button.addEventListener('click', on_click_closure(method_name));\n        button.addEventListener('mouseover', on_mouseover_closure(tooltip));\n        buttonGroup.appendChild(button);\n    }\n\n    if (buttonGroup.hasChildNodes()) {\n        toolbar.appendChild(buttonGroup);\n    }\n\n    // Add the status bar.\n    var status_bar = document.createElement('span');\n    status_bar.classList = 'mpl-message pull-right';\n    toolbar.appendChild(status_bar);\n    this.message = status_bar;\n\n    // Add the close button to the window.\n    var buttongrp = document.createElement('div');\n    buttongrp.classList = 'btn-group inline pull-right';\n    button = document.createElement('button');\n    button.classList = 'btn btn-mini btn-primary';\n    button.href = '#';\n    button.title = 'Stop Interaction';\n    button.innerHTML = '<i class=\"fa fa-power-off icon-remove icon-large\"></i>';\n    button.addEventListener('click', function (_evt) {\n        fig.handle_close(fig, {});\n    });\n    button.addEventListener(\n        'mouseover',\n        on_mouseover_closure('Stop Interaction')\n    );\n    buttongrp.appendChild(button);\n    var titlebar = this.root.querySelector('.ui-dialog-titlebar');\n    titlebar.insertBefore(buttongrp, titlebar.firstChild);\n};\n\nmpl.figure.prototype._remove_fig_handler = function (event) {\n    var fig = event.data.fig;\n    if (event.target !== this) {\n        // Ignore bubbled events from children.\n        return;\n    }\n    fig.close_ws(fig, {});\n};\n\nmpl.figure.prototype._root_extra_style = function (el) {\n    el.style.boxSizing = 'content-box'; // override notebook setting of border-box.\n};\n\nmpl.figure.prototype._canvas_extra_style = function (el) {\n    // this is important to make the div 'focusable\n    el.setAttribute('tabindex', 0);\n    // reach out to IPython and tell the keyboard manager to turn it's self\n    // off when our div gets focus\n\n    // location in version 3\n    if (IPython.notebook.keyboard_manager) {\n        IPython.notebook.keyboard_manager.register_events(el);\n    } else {\n        // location in version 2\n        IPython.keyboard_manager.register_events(el);\n    }\n};\n\nmpl.figure.prototype._key_event_extra = function (event, _name) {\n    // Check for shift+enter\n    if (event.shiftKey && event.which === 13) {\n        this.canvas_div.blur();\n        // select the cell after this one\n        var index = IPython.notebook.find_cell_index(this.cell_info[0]);\n        IPython.notebook.select(index + 1);\n    }\n};\n\nmpl.figure.prototype.handle_save = function (fig, _msg) {\n    fig.ondownload(fig, null);\n};\n\nmpl.find_output_cell = function (html_output) {\n    // Return the cell and output element which can be found *uniquely* in the notebook.\n    // Note - this is a bit hacky, but it is done because the \"notebook_saving.Notebook\"\n    // IPython event is triggered only after the cells have been serialised, which for\n    // our purposes (turning an active figure into a static one), is too late.\n    var cells = IPython.notebook.get_cells();\n    var ncells = cells.length;\n    for (var i = 0; i < ncells; i++) {\n        var cell = cells[i];\n        if (cell.cell_type === 'code') {\n            for (var j = 0; j < cell.output_area.outputs.length; j++) {\n                var data = cell.output_area.outputs[j];\n                if (data.data) {\n                    // IPython >= 3 moved mimebundle to data attribute of output\n                    data = data.data;\n                }\n                if (data['text/html'] === html_output) {\n                    return [cell, data, j];\n                }\n            }\n        }\n    }\n};\n\n// Register the function which deals with the matplotlib target/channel.\n// The kernel may be null if the page has been refreshed.\nif (IPython.notebook.kernel !== null) {\n    IPython.notebook.kernel.comm_manager.register_target(\n        'matplotlib',\n        mpl.mpl_figure_comm\n    );\n}\n",
      "text/plain": [
       "<IPython.core.display.Javascript object>"
      ]
     },
     "metadata": {},
     "output_type": "display_data"
    },
    {
     "data": {
      "text/html": [
       "<div id='8f0fcbbf-328e-40a4-8f9a-325de6953cf5'></div>"
      ],
      "text/plain": [
       "<IPython.core.display.HTML object>"
      ]
     },
     "metadata": {},
     "output_type": "display_data"
    },
    {
     "data": {
      "text/plain": [
       "Text(0.5, 1.0, 'humidity correction factor')"
      ]
     },
     "execution_count": 16,
     "metadata": {},
     "output_type": "execute_result"
    }
   ],
   "source": [
    "# to do \n",
    "\n",
    "x, r = 0.5, 0.8\n",
    "\n",
    "x = np.linspace(0, 1)\n",
    "plt.figure()\n",
    "plt.plot(x, humidity(x), lw=3)\n",
    "plt.xlabel(\"taux d'humidité\")\n",
    "plt.ylabel(r\"$\\dfrac{\\rho}{\\rho_{std}}$\")\n",
    "plt.grid()\n",
    "plt.title(\"humidity correction factor\")\n"
   ]
  },
  {
   "cell_type": "markdown",
   "id": "106857e6",
   "metadata": {},
   "source": [
    "**Commentaires ?**\n",
    "\n",
    "...\n"
   ]
  },
  {
   "cell_type": "markdown",
   "id": "9b6f0ea0",
   "metadata": {},
   "source": [
    "## **<span style=\"color:blue\">I-4 Applications numériques pour deux avions</span>**\n",
    "\n",
    "\n",
    "On considère 2 avions qui volent à une altitude de 8000 m telles que les données atmosphériques sont:\n",
    "$$\n",
    "\\sigma = 0.4292,\\qquad \\delta = 0.3519   \\qquad \\sigma = \\dfrac \\rho \\rho_0, \\qquad \\delta  = \\dfrac p p_0\n",
    "$$\n",
    "\n",
    "* l'avion 1, qui vole en subsonique à une vitesse de 500 km/h\n",
    "* l'avion 2 vole en supersonique à un nombre de Mach de 1.5\n",
    "\n",
    "\n",
    "###  **<span style=\"color:magenta\"> Calculer la vitesse du son au niveau du sol et à l'altitude de 8000 m, ainsi que la pression, la masse volumique, la température  et la vitesse du son</span>** \n",
    "\n",
    "On pourra récupérer des résultats calculés plus haut\n",
    "\n",
    "*Utiliser des listes pour les variables l'indice 0 pour l'avion 1 et l'indice 1 pour l'avion 2.*\n",
    " "
   ]
  },
  {
   "cell_type": "code",
   "execution_count": null,
   "id": "66d824e7",
   "metadata": {},
   "outputs": [],
   "source": [
    "sigma, delta = 0.4292, 0.3519\n",
    "# to do  \n",
    "\n",
    "\n",
    "# not to change, for displaying\n",
    "msg = (0, 8000)\n",
    "for i in range(2):\n",
    "    s = \"h =  \" + str(msg[i]) + \" m\"\n",
    "    display_state(s, p[i], rho[i], T[i], a[i])"
   ]
  },
  {
   "cell_type": "markdown",
   "id": "0ea1ec0e",
   "metadata": {},
   "source": [
    "**Commentaires ?**\n",
    "\n",
    "...\n"
   ]
  },
  {
   "cell_type": "markdown",
   "id": "a40faaa0",
   "metadata": {},
   "source": [
    "###  **<span style=\"color:magenta\"> Calculer pour les deux avions la pression dynamique, le nombre de Mach et la vitesse, suivant le cas</span>**\n",
    " \n",
    "\n",
    "$$\n",
    "q =  \\dfrac{1}{2} \\rho V^2 = \\dfrac{1}{2} \\rho M^2 \\dfrac{\\gamma p}{\\rho} = \\dfrac{\\gamma p M^2}{2}\n",
    "$$\n"
   ]
  },
  {
   "cell_type": "code",
   "execution_count": null,
   "id": "2924c223",
   "metadata": {},
   "outputs": [],
   "source": [
    "# Avion 1:\n",
    "V = [500 / 3.6, 0]\n",
    "M, q = [0, 1.5], []\n",
    "M[0] = V[0] / a[0]\n",
    "V[1] = M[1] * a[1]\n",
    " \n",
    "# to do\n",
    "\n",
    " \n"
   ]
  },
  {
   "cell_type": "markdown",
   "id": "5bc8f2d9",
   "metadata": {},
   "source": [
    "**Commentaires ?**\n",
    "\n",
    "...\n"
   ]
  },
  {
   "cell_type": "markdown",
   "id": "7b77c9e9",
   "metadata": {},
   "source": [
    "\n",
    "# **<span style=\"color:red\">II - Les pressions</span>**\n",
    "\n",
    "On utilise plusieurs types de pression, il est important de connaître leur signification et emploi:\n",
    "\n",
    "### Pression statique\n",
    "\n",
    "c'est la pression thermodynamique\n",
    "\n",
    "### Pression dynamique\n",
    "\n",
    "Elle prend en compte la vitesse de l'air.\n",
    "\n",
    "<div class=\"alert alert-block alert-danger\">\n",
    "<b>Pression dynamique </b>\n",
    "    $$\n",
    "    q =  \\dfrac{\\gamma p M^2}{2} =  \\dfrac{1}{2} \\rho V^2 \n",
    "    $$ \n",
    "</div>\n",
    "\n",
    "###  Pression totale\n",
    "\n",
    "<div class=\"alert alert-block alert-danger\">\n",
    "<b>Pression totale </b>\n",
    "    \\begin{equation}\n",
    "    p_t(M) = p(M) + q(M) = p \\left(1 + \\dfrac{\\gamma}{2} M^2\\right)\n",
    "    \\label{eq:pt} \\tag{$p_t$ def.}\n",
    "    \\end{equation}\n",
    "</div>  \n",
    "  \n",
    "  Normalement cette définition devrait être valable tout nombre de Mach. Mais ...\n",
    "\n",
    "### Pression isentropique\n",
    "<div class=\"alert alert-block alert-danger\">\n",
    "<b>Pression isentropique </b>\n",
    "    $$\n",
    "    p_i = p \\left(1+\\dfrac{\\gamma-1}{2}M^2\\right)^\\dfrac{\\gamma}{\\gamma-1}\n",
    "    $$\n",
    "</div>  \n",
    "\n",
    "### Pression d'arrêt\n",
    "\n",
    "C'est la pression lorsque en un point de l'écoulement la **vitesse relative est nulle**.\n",
    "\n",
    "<div class=\"alert alert-block alert-danger\">\n",
    "<b>Pression d'arrêt </b>\n",
    "    \n",
    "* La pression d'arrêt est la pression isentropique \n",
    "\n",
    "* On la nomme aussi très souvent pression totale car  $p_i = p_t(M=0)$\n",
    "</div>  \n",
    "\n",
    "### Pression dynamique compressible \n",
    "\n",
    "On la trouve parfois sous la notation $\\Delta p$.\n",
    "\n",
    "Elle est donnée en fonction de la pression isentropique par:\n",
    "\n",
    "<div class=\"alert alert-block alert-danger\">\n",
    "<b>Pression dynamique compressible </b>\n",
    "$$\n",
    "q_c = p_i -p = \\Delta p\n",
    "\\label{eq:qc} \\tag{éq. $q_c$ def.}\n",
    "$$\n",
    "</div>\n",
    "\n",
    "Cette notion n'existe pas en aérodynamique fondamentale. Elle a été créée pour la mécanique du vol.\n",
    "\n",
    "On l'appelle aussi **pression d'impact**\n",
    "\n",
    "C'est une différence de pression mesurée en vol par les instruments, on l'appelle parfois $\\Delta p$, et cela a plus de sens. On alors la relation\n",
    "    \n",
    "<div class=\"alert alert-block alert-success\">\n",
    "<b> $q_c$   à partir du Mach et de la pression statique</b>\n",
    "$$\n",
    "q_c =  p \\left[ \\left(1+\\dfrac{\\gamma-1}{2}M^2\\right)^\\dfrac{\\gamma}{\\gamma-1}-1\\right]\n",
    " \\label{eq:qc_value} \\tag{éq. $q_c$}\n",
    "$$\n",
    "</div>\n",
    "\n",
    "On verra plus loin que cette pression $q_c$ n'est exactement égale à la pression dynamique $q$ que uniquement lorsque \n",
    "la vitesse tend vers 0.\n",
    "\n",
    "Cela revient à assimiler $p_t$  à $p_i$, donc **à la pression au point d'arrêt**. \n",
    "\n",
    "Au final dans les livres on considère $p_t$ comme une constante égale à $p_i$ et on oublie l'équation \\eqref{eq:pt}.\n",
    "\n",
    "* Dans un écoulement où les évolutions thermodynamiques sont à **entropie constante** la quantité **$p_i$ est conservée**\n",
    "\n",
    "**Remarque:** \n",
    "\n",
    "Parfois on trouve la pression notée $p_s$: il faut faire attention, soit   la pression statique $p$, qu'il ne faut pas confondre avec  la pression d'arrêt $p_i$ (*stagnation pressure*) !\n"
   ]
  },
  {
   "cell_type": "markdown",
   "id": "e2aef49b",
   "metadata": {},
   "source": [
    "###  **<span style=\"color:magenta\">Calculer les rapports ci-dessous et comparer à   2.5, 5 et 2/7.</span>**\n",
    "  \n",
    "Ces rapports, et d'autres, interviennent souvent en aérodynamique compressible. Dans les livres de mécanique du vol, on trouve plus souvent les formules avec les valeurs numériques, que les formules avec les exposants écrits littérallement. \n",
    "\n",
    "Il faut faire l'application numérique au moins une fois.\n",
    "  \n",
    "$$\n",
    "r_1 = \\dfrac{1}{\\gamma-1}, \\qquad r_2 = \\dfrac{2}{\\gamma-1}, \\qquad  r_3 = \\dfrac{\\gamma-1}{\\gamma}, \\qquad r_2 = \\dfrac{1}{r_3} \n",
    "$$\n",
    " "
   ]
  },
  {
   "cell_type": "code",
   "execution_count": null,
   "id": "280d1cd5",
   "metadata": {},
   "outputs": [],
   "source": [
    "# just to run\n",
    "pressure_exponents()"
   ]
  },
  {
   "cell_type": "markdown",
   "id": "0ba2e1f5",
   "metadata": {},
   "source": [
    "**Commentaires ?**\n",
    "\n",
    "...\n"
   ]
  },
  {
   "cell_type": "markdown",
   "id": "d966191e",
   "metadata": {},
   "source": [
    "###  **<span style=\"color:magenta\">Calcul des pressions pour l'Avion 2 </span>**\n",
    "\n",
    "* On vérifiera notamment que dans l'absolue $p_t$ est différente de $p_i$ (équivalent à dire que $q$ est différente de $q_c$)\n",
    "* On utilisera les fonctions données dans le module `flight.flight_physics`\n",
    "* **utiliser les listes créer dans la partie I-4** \n",
    "\n",
    "**Calculer:** $p_i/p$, $q(M)$, $q_c(M)$, $p_i$, $p_t$"
   ]
  },
  {
   "cell_type": "code",
   "execution_count": null,
   "id": "7a6479b4",
   "metadata": {},
   "outputs": [],
   "source": [
    "# just to run and make a comment\n",
    "pt = [0,  p[1] + q[1]]\n",
    "pi = [0,  pi_sur_p(M[1]) * p[1]]\n",
    "print(\"Avion 2 : vérification\")\n",
    "print(\"p + q     : %.2f Pa\" % (p[1] + q[1]))\n",
    "print(\"q         : %.2f Pa  %.2f Pa \" % (q_from_Mach(M[1], p[1]), q[1]))\n",
    "print(\"qc        : %.2f Pa\" % qc_from_Mach(M[1], p[1]))\n",
    "print(\"pt/p      : %.3f \" % (pt[1] / p[1]))\n",
    "print(\"pi/p      : %.3f \" % (pi[1] / p[1]))"
   ]
  },
  {
   "cell_type": "markdown",
   "id": "647a1dc6",
   "metadata": {},
   "source": [
    "**Commentaires**\n",
    "\n",
    "...\n"
   ]
  },
  {
   "cell_type": "markdown",
   "id": "8208310c",
   "metadata": {},
   "source": [
    "###  **<span style=\"color:magenta\">A partir de quel Mach l'erreur sur $p_t$ par rapport à $p_i$ est supérieure à 5% ?</span>**\n",
    "\n",
    "On a souvent tendance à confondre la pression totale et la pression isentropique. Les deux peuvent varier en fonction des conditions d'écoulements, mais dans des circonstances différentes. \n",
    "\n",
    "Malgré tout, elles sont souvent assimilées l'une à l'autre. Il faut évaluer l'erreur commise:\n",
    "<div class=\"alert alert-block alert-info\">\n",
    "<b> Erreur sur la pression totale</b>\n",
    "$$\n",
    "\\varepsilon = \\dfrac{p_t - p_i}{p_i}  = \\dfrac{q - q_c}{p_i}  =\\dfrac{p_t}{p_i} - 1 = \\frac{1 + \\dfrac{\\gamma}{2} M^2}{\\left(1+\\dfrac{\\gamma-1}{2}M^2\\right)^\\dfrac{\\gamma}{\\gamma-1}}\n",
    "$$\n",
    "</div>\n",
    "\n",
    "On propose aussi une autre erreur sur les pressions dynamique:\n",
    "<div class=\"alert alert-block alert-info\">\n",
    "<b> Erreur sur les pressions dynamiques</b>\n",
    "$$\n",
    "\\varepsilon_q = \\sqrt{\\dfrac{q_c - q}{q}} \\approx k M^2 \n",
    "$$\n",
    "</div>\n",
    "\n",
    "Pour des nombres de Mach faible un développement limité à l'ordre 2 de l'erreur  $\\varepsilon_q$  donne:\n",
    "$$\n",
    "\\varepsilon_q = \\dfrac{M^2}{4} + \\mathcal{O}(M^2)\n",
    "$$\n",
    "\n",
    "**Tracer aussi cette erreur.**\n",
    "\n",
    "**Réponse:**\n",
    "\n",
    "Mach = ...\n",
    "\n",
    "**En mécanique du vol cela implique de faire des corrections de compressibilité**"
   ]
  },
  {
   "cell_type": "code",
   "execution_count": null,
   "id": "81450187",
   "metadata": {},
   "outputs": [],
   "source": [
    "# to do\n",
    "\n"
   ]
  },
  {
   "cell_type": "markdown",
   "id": "42344504",
   "metadata": {},
   "source": [
    "###  **<span style=\"color:magenta\">Calculer des pressions dynamiques</span>**\n",
    "\n",
    "Pour résoudre les vitesses, on a besoin de calculer des pression dynamique.\n",
    "Le sujet a été abordé plus haut. Testons la fonction implémentée avec trois méthodes pour le calcul de $q$.\n",
    "\n",
    "\n",
    "Calculer les pressions dynamiques pour les cas suivant:\n",
    "\n",
    "1. $\\rho = 1, U = 100$\n",
    "2. $M=0.5$ et $p=35 000$ Pa:\n",
    "    a. à partir de la définition de $q$\n",
    "    b. en supposant une évolution isentropique\n",
    "3. Identique à la question 2, mais avec $M=1.5$\n",
    "\n",
    "**Conclusions**:\n",
    "\n",
    "....\n",
    "\n",
    "**Remarques** \n",
    "\n",
    "Dans le module `aerodynamics`, il y a plusieurs méthodes pour calculer les pressions dynamiques, il y a des \"recopies\" de codes"
   ]
  },
  {
   "cell_type": "code",
   "execution_count": null,
   "id": "488763d3",
   "metadata": {},
   "outputs": [],
   "source": [
    "# to do\n"
   ]
  },
  {
   "cell_type": "markdown",
   "id": "bac8ec30",
   "metadata": {},
   "source": [
    "# **<span style=\"color:red\">III - Le nombre de Mach</span>**\n",
    " \n",
    "\n",
    "On peut trouver le nombre de Mach en fonction de différentes quantités ou rapports liés à la pression en inversant les relations précédentes:\n",
    "\n",
    "* en fonction de la pression dynamique\n",
    "    \n",
    "<div class=\"alert alert-block alert-success\">\n",
    "<b> Mach en fonction de $q$  et $p$</b>\n",
    "$$\n",
    "M^2 = \\dfrac{2}{\\gamma}~\\dfrac{q}{p}\n",
    "$$\n",
    "</div>\n",
    "\n",
    "* en fonction de la pression totale:\n",
    "$$\n",
    "M^2 =  \\dfrac{2}{\\gamma} \\left(\\dfrac{p_t}{q} - 1\\right)\n",
    "\\label{eq:M2_from_pt}\\tag{éq. $M(p_t)$}\n",
    "$$\n",
    "\n",
    "* en fonction de la pression isentropique\n",
    "\n",
    "<div class=\"alert alert-block alert-success\">\n",
    "<b> Mach en fonction de $q$  et $p$ à partir de $p_i$</b>\n",
    "\\begin{equation}\n",
    "M^2 = \\dfrac{2}{\\gamma-1}\\left[\\left(\\dfrac{p_i}{p}\\right)^\\dfrac{\\gamma-1}{\\gamma} - 1 \\right]   \n",
    "\\label{eq:M_from_pi} \\tag{éq. $M(p_i)$}\n",
    "\\end{equation}\n",
    "</div>\n",
    "\n",
    "La relation \\eqref{eq:M2_from_pt} bien que vraie n'est jamais employée, contrairement à\n",
    "l'équation \\eqref{eq:M_from_pi} qui est fondamentale.\n",
    "\n",
    "###  **<span style=\"color:magenta\">Calculer des nombres de Mach</span>**\n",
    "\n",
    "1. à partir de la pression dynamique avec    $p / q = \\xi$\n",
    "2. à partir de la pression totale avec       $p_t / q = \\xi$\n",
    "3. à partir de la pression isentropique avec $p_i / q = \\xi$\n",
    "\n",
    "pour le rapport $\\xi = 1.2$ et 10.\n",
    "\n",
    "**Conclusions:**\n",
    "\n",
    "...\n"
   ]
  },
  {
   "cell_type": "code",
   "execution_count": null,
   "id": "627cebe7",
   "metadata": {},
   "outputs": [],
   "source": [
    "# to do \n",
    " \n"
   ]
  },
  {
   "cell_type": "markdown",
   "id": "f7aca32d",
   "metadata": {},
   "source": [
    "**Commentaires**\n",
    "\n",
    "..."
   ]
  },
  {
   "cell_type": "markdown",
   "id": "371a8480",
   "metadata": {},
   "source": [
    "# **<span style=\"color:red\">IV - Les vitesses</span>**\n",
    "\n",
    "Beaucoup de vitesses sont définies et employées en aéronautique, alors qu'en aérodynamique une seule est définie et utilisée.\n",
    "\n",
    "## **<span style=\"color:red\">IV-1 Aérodynamique</span>**\n",
    "\n",
    "En aérodynamique on définit la vitesse par :\n",
    "<div class=\"alert alert-block alert-danger\">\n",
    "<b>Vitesse aérodynamique à partir du Mach </b>\n",
    "$$\n",
    "V = M  \\times a = \\sqrt{ \\dfrac{2 \\gamma r}{\\gamma-1} (T_i - T)} = M \\sqrt{\\gamma r T} =  M \\sqrt{\\gamma \\dfrac{p}{\\rho}}, \\qquad \\qquad  \\dfrac{T_i}{T} = 1 + \\dfrac{\\gamma-1}{2}M^2\n",
    "$$\n",
    "</div>\n",
    "\n",
    "Pour les écoulements **incompressibles**, c'est-à-dire à faible vitesse on peut la définir à partir de l'équation de Bernoulli:\n",
    "\n",
    "$$\n",
    "p_t = p + \\dfrac1 2 \\rho V^2  = \\textrm{constante} \\qquad\n",
    "\\Longrightarrow \\qquad V = \\sqrt{2 \\dfrac{p_t-p}{\\rho}}\n",
    "$$\n",
    "\n",
    "Mais on a aussi toujours la définition à partir de la **pression dynamique**, quelque soit le régime:\n",
    "<div class=\"alert alert-block alert-danger\">\n",
    "<b>Vitesse aérodynamique à partir de la pression dynamique </b>\n",
    "$$\n",
    "V = \\sqrt{\\dfrac{2 q}{\\rho}}\n",
    "$$\n",
    "</div>"
   ]
  },
  {
   "cell_type": "markdown",
   "id": "586431e9",
   "metadata": {},
   "source": [
    "## **<span style=\"color:red\">IV-2 Mécanique du vol et aéronautique</span>**\n",
    "\n",
    "En Mécanique du Vol et plus généralement en aéronautique on définit les vitesses de différentes manières et c'est lié au moyen de mesure.\n",
    "\n",
    "La lettre **K** indique que la valeur est en **knots (kt)**.\n",
    "\n",
    "\n",
    "Il y a donc 6 vitesses différentes:\n",
    "\n",
    "### IAS/ KIAS : Indicated Air Speed / Knot Indicated Air Speed. \n",
    "\n",
    "<img src=\"Images/FAA_ASI.png\" width=\"500\">\n",
    "\n",
    "C'est la vitesse donnée par la sonde Pitot statique à partir le l'indicateur de vitesse (airspeed indicator (ASI, cf figure)).\n",
    "    \n",
    "*C'est la vitesse primaire que peut lire le pilote. Elle est liée au fonctionnement de la sonde Pitot où se déforme un diaphragme (une capsule) en fonction d'une pression et de la pression statique de référence (pression atmosphérique au niveau de la mer).*\n",
    "\n",
    "* A faible vitesse, en supposant l'écoulement  incompressible on indique:\n",
    "$$ IAS \\approx \\sqrt{\\dfrac{2 (p_t -p_s)}{\\rho}} $$\n",
    "$p_s$ est la pression statique vue précédemment, à l'altitude de vol et $p_t$ la pression totale.\n",
    "\n",
    "* En prenant en compte la compressibilité on a :\n",
    "$$\n",
    "IAS^2 \\approx  \\dfrac{2\\gamma}{\\gamma-1} \\dfrac{p0}{\\rho_0} \\left[ \\left(\\dfrac{p_t}{p_0} \\right)^{\\dfrac{\\gamma-1}{\\gamma}}-1\\right]\n",
    "$$\n",
    "On rappelle que  $p_s$ est la pression statique et $p_t=p_i$ est la pression isentropique, ou pression d'arrêt.\n",
    "Si l'écoulement est **supersonique**  la relation est plus complexe car on a un choc droit sur l'entrée du tube de Pitot.\n",
    "\n",
    "On remarque que ce sont les quantités thermodynamiques au niveau de la mer (indice 0) qui interviennent.\n",
    "\n",
    "Attention, comme cette valeur vient de mesure elle est entâchée d'erreurs, la formule est donc \"théorique\".\n"
   ]
  },
  {
   "cell_type": "markdown",
   "id": "21dedd25",
   "metadata": {},
   "source": [
    "### CAS : Calibrated airspeed  (ou KCAS) \n",
    "\n",
    "C'est la vitesse indiquée corrigée par les erreurs de mesure des instruments et l'erreur de position (d'altitude). Chaque constructeur fournit les corrections en fonction des instruments. On a donc:\n",
    "\n",
    "<div class=\"alert alert-block alert-danger\">\n",
    "<b> Vitesse calibrée à partir de la vitesse indiquée </b>\n",
    "$$ CAS = IAS + \\Delta_{erreurs} $$\n",
    "</div>\n",
    "\n",
    " * En subsonique, le calcul est basée sur l'équation (éq. $(q_c)$) pour des conditions au niveau de la mer:\n",
    "\n",
    "<div class=\"alert alert-block alert-success\">\n",
    "<b> Vitesse calibrée en subsonique </b>\n",
    "$$\n",
    " CAS = a_0 \\sqrt{ \\dfrac{2}{\\gamma-1} \\left[\\left( 1 + \\dfrac{q_c}{p_0} \\right)^{\\dfrac{\\gamma-1}{\\gamma}} -1 \\right]} \n",
    " \\qquad \\textrm{avec} \\qquad a_0 = \\sqrt{\\dfrac{\\gamma p_0}{\\rho_0}}\n",
    " $$\n",
    " Pour simplifier on définit:\n",
    " $$ \\Pi(q, p) = \\left(1 + \\dfrac{q}{p} \\right)^{\\dfrac{\\gamma-1}{\\gamma}} -1$$\n",
    " et on pose:\n",
    " $$CAS^2 =  \\dfrac{2 a_0 }{\\gamma-1}\\Pi(q_c, p_0)$$\n",
    "</div>\n",
    "\n",
    " On remarque que si  $\\Delta_{erreurs}$ les deux vitesses $IAS$ et $CAS$ sont égales et que les deux formules sont équivalentes.\n",
    "\n",
    " De cette expression on peut avoir la pression dynamique compressible:\n",
    " \n",
    "<div class=\"alert alert-block alert-success\">\n",
    "<b> $q_c$ en fonction de la vitesse calibrée en subsonique a</b>\n",
    " $$\n",
    " \\dfrac{q_c}{p_0} = \\left(1 + \\dfrac{\\gamma-1}{2} \\dfrac{CAS^2}{a_0^2} \\right)^{\\dfrac{\\gamma}{\\gamma-1}} -1\n",
    " \\label{eq:qc_from_CAS} \\tag{éq. $q_c$ from $CAS$}\n",
    " $$\n",
    " </div>\n",
    "\n",
    "* En supersonique (formule démontrée et abordée dans la dernière section):\n",
    "    \n",
    " <div class=\"alert alert-block alert-success\">\n",
    "<b> Vitesse calibrée en supersonique </b>\n",
    " $$\n",
    " CAS = a_0 \\left [\\left(1 + \\dfrac{q}{p_0} \\right) \\dfrac{\\left(7 (CAS/a_0)^2-1\\right)^{5/2}}{6^{5/2} \\rho_0^{5/2}}  \\right] ^{1/7}\n",
    " $$\n",
    " </div>\n",
    "    \n",
    " L'indice 0 correspond à des valeurs pour le niveau de la mer à la température de référence."
   ]
  },
  {
   "cell_type": "markdown",
   "id": "792acd3f",
   "metadata": {},
   "source": [
    "###  TAS / KTAS : True Air Speed, Knot True Air Speed\n",
    "\n",
    " <div class=\"alert alert-block alert-success\">\n",
    "<b> Vitesse  vraie en subsonique </b>\n",
    "$$\n",
    "    TAS  = \\sqrt{\\dfrac{2 q}{\\rho}} = \\sqrt{ \\dfrac{2\\gamma}{\\gamma-1}~ \\dfrac{p}{\\rho}~\\left[ \\left( 1 + \\dfrac{q_c}{p} \\right)^{\\dfrac{\\gamma-1}{\\gamma}} -1 \\right]} \\qquad  \\qquad TAS^2 =   \\dfrac{2\\gamma}{\\gamma-1}~ \\dfrac{p}{\\rho}~\\Pi(q_c, p) \n",
    "$$\n",
    " </div>\n",
    " \n",
    "L'équation est obtenue à partir de la définition de la vitesse du son, du nombre de Mach et de l'équation (1).\n",
    "\n",
    "On retrouve la définition de l'aérodynamique, c'est la vitesse réelle (vraie).\n",
    "\n",
    "On peut aussi écrire:\n",
    "\n",
    "<div class=\"alert alert-block alert-info\">\n",
    "<b>TAS à partir de CAS en subsonique </b>\n",
    "$$\n",
    "TAS^2 = CAS^2 \\Theta ~\\dfrac{\\Pi(q, p)}{\\Pi(q, p_0)}  \\qquad \\qquad \\Theta  = \\dfrac{T}{T_0}\n",
    "$$\n",
    " </div>\n",
    "\n",
    "### EAS : Equivalent Air Speed\n",
    "\n",
    "Elle est définie avec la pression dynamique et la masse volumique  au niveau de la mer\n",
    "\n",
    "<div class=\"alert alert-block alert-danger\">\n",
    "<b> EAS en fonction de TAS </b>\n",
    "$$ EAS  = \\sqrt{\\dfrac{2 q}{\\rho_0}} = TAS \\times \\sqrt\\sigma $$\n",
    " </div>\n",
    " \n",
    "C'est donc une vitesse de référence calculée au niveau de la mer, mais ce n'est pas la vraie vitesse.\n",
    "\n",
    "On peut aussi exprimer la vitesse équivalente EAS en fonction de la vitesse calibrée CAS:\n",
    "    \n",
    " <div class=\"alert alert-block alert-success\">\n",
    "<b> Vitesse  vraie en subsonique </b>\n",
    "$$ EAS^2 = CAS^2 \\dfrac{p}{p_0}~ \\dfrac{\\Pi(q, p)}{\\Pi(q, p_0)} $$\n",
    " </div>    \n",
    "    \n",
    "Les deux vitesses EAS et CAS sont vraiment très proches. On le vérifiera à la fin.\n",
    "    \n",
    "### GS / KGS : Ground Speed\n",
    "\n",
    "C'est la vitesse au sol prend en compte la vitesse du vent $w$.\n",
    "\n",
    "<div class=\"alert alert-block alert-danger\">\n",
    "<b> GS en fonction de TAS </b>\n",
    "    $$\n",
    "    GS = TAS - w\n",
    "    $$\n",
    " </div>  \n"
   ]
  },
  {
   "cell_type": "markdown",
   "id": "846af1ed",
   "metadata": {},
   "source": [
    "### C - Complément: calcul du nombre de Mach en vol\n",
    "\n",
    "Si on connaît la vitesse calibrée CAS on peut trouver le nombre de Mach avec:\n",
    "\n",
    "\n",
    "<div class=\"alert alert-block alert-info\">\n",
    "<b>Nombre de Mach à partir de CAS en subsonique </b>\n",
    "$$\n",
    "M^2 =\\dfrac{2}{\\gamma-1} \\left(\n",
    "\\left[\n",
    "\\dfrac 1 \\delta \\left( \\left\\{\n",
    "                    1 + \\dfrac{\\gamma-1}{2} \\dfrac{CAS^2}{a_0^2}\n",
    "                \\right\\}^{\\dfrac{\\gamma}{\\gamma-1}}-1\\right)\n",
    "+ 1 \\right]^{\\dfrac{\\gamma-1}{\\gamma}} -1\n",
    "\\right) \n",
    "$$\n",
    "</div>  \n",
    "    \n",
    "\n",
    "Cette expression un peu compliquée est déduite d'expressions vues précédément. \n",
    "\n",
    "### D - Remarque\n",
    "\n",
    "On déduit dans la suite la pression en fonction de l'altitude et de la température. Dans un avion,\n",
    "on la détermine à partir de l'altimètre qui n'est rien d'autre qu'un moyen de traduire une pression en mètres.\n",
    "\n",
    "<img src=\"Images/FAA_Pitot_double.png\" width=\"700\">\n"
   ]
  },
  {
   "cell_type": "markdown",
   "id": "7cad0009",
   "metadata": {},
   "source": [
    "## **<span style=\"color:red\">IV-3 Bilan et calcul numérique de vitesses</span>**\n",
    "\n",
    "Dans [Gudmundsson], p.772 on trouve ce joli graphique:\n",
    "\n",
    "<img src=\"Images/bilan_vitesse.png\" width=\"700\">\n",
    "\n",
    "On remarque la différence importante entre la vitesse calibrée et la vitesse réelle à une certaine altitude.\n",
    "\n",
    "La différence n'existe plus au niveau de la mer.\n",
    "\n",
    "Dans la suite, on va retrouver les valeurs indiquées sur la figure de trois manières différentes:\n",
    "\n",
    "1. On suppose qu'on connaît la vitesse équivalent EAS.\n",
    "2. On suppose qu'on connaît la vitesse indiquée.\n",
    "3. On suppose qu'on connaît la vraie vitesse.\n",
    "\n",
    "On a donc devoir jongler avec les différentes formules et réfléchir.\n",
    "\n",
    "On s'aidera des fonctions déjà implémentées dans le module `flight.flight_physics`\n",
    "\n",
    "\n",
    "L'ordre normal du calcul des vitesses est le suivant pour un avion:\n",
    "\n",
    "<img src=\"Images/vitesses.png\" width=\"500\">\n",
    "\n",
    "Le vent au sol est de **20 Kts**."
   ]
  },
  {
   "cell_type": "markdown",
   "id": "a5a695d4",
   "metadata": {},
   "source": [
    "## **<span style=\"color:blue\">IV-3-1 Calcul de vitesses à partir de la valeur de KEAS</span>**\n",
    "\n",
    "\n",
    "L'altitude est de **25 000 pieds**, il faut d'abord trouver l'altitude en mètres afin d'avoir $\\sigma$ et $\\delta$.\n",
    "\n",
    "Il faut écrire un peu de code, quitte à utiliser des fonctions existantes ou en ajouter de nouvelles.\n",
    "\n",
    "Pour ce calcul  **on suppose connaître la vitesse équivalent** KEAS de 292 kts avec une erreur des instruments de 3 kts et on calcule le reste.\n",
    "\n",
    "Il faut effectuer les calculs pour les deux altitudes $h= [0, 25~000 fts]$."
   ]
  },
  {
   "cell_type": "code",
   "execution_count": null,
   "id": "6cdbecc4",
   "metadata": {},
   "outputs": [],
   "source": [
    "from flight.flight_physics import *\n",
    "\n",
    "# to do\n",
    " "
   ]
  },
  {
   "cell_type": "markdown",
   "id": "7b85d081",
   "metadata": {},
   "source": [
    "**Commentaires**\n",
    "\n",
    "..."
   ]
  },
  {
   "cell_type": "markdown",
   "id": "2af4e105",
   "metadata": {},
   "source": [
    "**Conclusion**\n",
    "\n",
    "On trouve les résultats de la figure, mais on n'a pas fait les choses dans l'ordre puisqu'on est parti de KEAS qu'on ne connaît pas a priori."
   ]
  },
  {
   "cell_type": "markdown",
   "id": "5e665781",
   "metadata": {},
   "source": [
    "## **<span style=\"color:blue\">IV-3-2 Calcul de vitesses à partir de valeur de KIAS</span>**\n",
    "\n",
    "Pour ce calcul on suppose connaître la vitesse indiquée **KIAS de 292 kts** avec une erreur des instruments de 3 kts et on calcule le reste.\n"
   ]
  },
  {
   "cell_type": "code",
   "execution_count": null,
   "id": "6d727288",
   "metadata": {},
   "outputs": [],
   "source": [
    "from flight.flight_physics import *\n",
    "\n",
    "# to do\n"
   ]
  },
  {
   "cell_type": "markdown",
   "id": "63cf3b55",
   "metadata": {},
   "source": [
    "Bizarrement on ne trouve pas exactement la même chose pour KTAS et KEAS que dans la procédure précédente. **Pourquoi ?**\n",
    "\n",
    "**Réponse** :\n",
    "\n",
    "...."
   ]
  },
  {
   "cell_type": "markdown",
   "id": "388a8730",
   "metadata": {},
   "source": [
    "## **<span style=\"color:blue\">IV-3-3 Calcul de vitesses à partir de la valeur de KTAS</span>**\n",
    "\n",
    "Pour ce calcul on suppose connaître la vitesse indiquée **KTAS de 436 kts** avec une erreur des instruments de 3 kts et on calcule le reste.\n"
   ]
  },
  {
   "cell_type": "code",
   "execution_count": null,
   "id": "c9d4854e",
   "metadata": {},
   "outputs": [],
   "source": [
    "from flight.flight_physics import *\n",
    "\n",
    "# to do"
   ]
  },
  {
   "cell_type": "markdown",
   "id": "7e604b4f",
   "metadata": {},
   "source": [
    "**Commentaires**\n",
    "\n",
    "..."
   ]
  },
  {
   "cell_type": "markdown",
   "id": "a136fe15",
   "metadata": {},
   "source": [
    "#  Graphe TAS en fonction de CAS, pour différentes altitudes.\n",
    "\n",
    "Maintenant qu'on a validé notre démarche faisons un graphe classique qu'on retrouve dans tous les manuels de vol.\n",
    "\n",
    "Le code précédent est introduit dans une fonction"
   ]
  },
  {
   "cell_type": "code",
   "execution_count": null,
   "id": "7ad95cfb",
   "metadata": {},
   "outputs": [],
   "source": [
    "# just to run \n",
    "h_max = m2ft(11000)\n",
    "print(\"hmax : %.1f ft\" % h_max)\n",
    "\n",
    "KCAS_table = np.linspace(100, 650, 501)\n",
    "h_ft = np.linspace(5000, 35000, 7)\n",
    "data = solve(h_ft, KCAS_table)\n",
    "\n",
    "plot_diagram(data, 2)"
   ]
  },
  {
   "cell_type": "markdown",
   "id": "8562af35",
   "metadata": {},
   "source": [
    "**Commentaires**\n",
    "\n",
    "..."
   ]
  },
  {
   "cell_type": "markdown",
   "id": "f8abacf6",
   "metadata": {},
   "source": [
    "###  **<span style=\"color:magenta\">Autres diagrammes</span>**\n",
    "\n",
    "Regarder la méthode et faire les graphiques pour les autres options, \n",
    "ajouter un commentaire à chaque fois."
   ]
  },
  {
   "cell_type": "code",
   "execution_count": null,
   "id": "56e84940",
   "metadata": {},
   "outputs": [],
   "source": [
    "# to do"
   ]
  },
  {
   "cell_type": "markdown",
   "id": "ee4538bf",
   "metadata": {},
   "source": [
    "**Commentaires**\n",
    "\n",
    "..."
   ]
  },
  {
   "cell_type": "code",
   "execution_count": null,
   "id": "14249514",
   "metadata": {},
   "outputs": [],
   "source": [
    "# to do"
   ]
  },
  {
   "cell_type": "markdown",
   "id": "d86ba97c",
   "metadata": {},
   "source": [
    "**Commentaires**\n",
    "\n",
    "..."
   ]
  },
  {
   "cell_type": "code",
   "execution_count": null,
   "id": "b9a9bc3a",
   "metadata": {},
   "outputs": [],
   "source": [
    "# to do"
   ]
  },
  {
   "cell_type": "markdown",
   "id": "ce48f0da",
   "metadata": {},
   "source": [
    "**Commentaires**\n",
    "\n",
    "..."
   ]
  },
  {
   "cell_type": "markdown",
   "id": "ac9c7a0f",
   "metadata": {},
   "source": [
    "# **<span style=\"color:red\">V - Le nombre de Mach en écoulement supersonique</span>**\n",
    "\n",
    "En écoulement supersonique on mesure avant tout un nombre de Mach puis on en déduit des vitesses.\n",
    "Si l'avion est un vol dépassant Mach 1, un choc courbe assimilé à un choc droit se créée sur l'entrée du tube de Pitot.\n",
    "Les pressions, vitesses et Mach mesurés sont donc ceux en aval d'un choc droit. Il faut donc retrouver les valeurs en amont\n",
    "pour trouver la vrai vitesse de l'avion.\n",
    "\n",
    "\n",
    "<img src=\"Images/tube_pitot_double.png\" width=\"500\">\n",
    "\n",
    "\n",
    "On préfère, donc en supersonique utiliser un Machmètre: du tube de Pitot on récupère la pression d'arrêt, et \n",
    "la pression en amont de l'onde de choc est récupérée  $p_1$ par une autre prise de pression positionnée loin du tune de Pitot.\n",
    "\n",
    "Le fonctionnement est décrit par l'image ci-dessous:\n",
    "\n",
    "<img src=\"Images/MachPrincipe.png\" width=\"500\">\n",
    " \n",
    "\n",
    "## **<span style=\"color:green\">V-1 Eléments d'aérodynamique</span>**\n",
    "\n",
    "Le calcul se fait très bien avec les théories de l'aérodynamique.\n",
    "\n",
    "\n",
    "### Zone derrière le choc \n",
    "\n",
    "Dans **la zone derrière le choc l'écoulement est dit isentropique** (on conserve l'entropie)\n",
    "\n",
    "On vérifie donc :\n",
    "\n",
    "* que les grandeurs $p_i$ et  $T_i$ sont conservées dans cette zone\n",
    "\n",
    "* les relations dites isentropiques:\n",
    "\n",
    "$$\n",
    "\\dfrac{T}{T_i}= \\left( 1 +\\frac{\\gamma-1}{2}M^2\\right)^{-1} , \\qquad \\qquad  \n",
    "\\dfrac{p}{p_i}=  \\varpi(M)=\\left[\\dfrac{T}{T_i}\\right]^{\\dfrac{\\gamma}{\\gamma-1}}=\n",
    "    \\left( 1 +\\frac{\\gamma-1}{2}M^2\\right)^{-\\dfrac{\\gamma}{\\gamma-1}}\n",
    "$$\n",
    "\n",
    "\n",
    "\n",
    "* De la dernière relation on peut calcuer un nombre de Mach\n",
    "\n",
    "$$ \n",
    "M = \\varpi^{-1}\\left(\\dfrac {p}{p_i}\\right)=  \\sqrt{\\dfrac{2}{\\gamma-1}\\left[ \\left(\\dfrac{p}{p_{i}}\\right)^{\\dfrac{1-\\gamma}{\\gamma}}-1\\right]} $$\n",
    "\n",
    "\n",
    "Ces relations ont déjà été largement utilisées en écoulement subsonique compressible. \n",
    "\n",
    "On peut donc supposer, si le diamètre du tube de Pitot est très faible, que l'**état 2 est aussi l'état 1.**\n",
    "Donc on oublie l'indice 2 pour employer uniquement l'indice 1.\n",
    "\n",
    "    \n",
    "### Relations à travers le choc, entre les zones amont 0 et la zone aval 1.\n",
    "\n",
    "Les relations pour un choc droit, entre l'amont et l'aval sont données ici sous la forme classique:\n",
    "\n",
    "* Relation entre les nombres de Mach, et entre les pressions statiques\n",
    "\n",
    "<div class=\"alert alert-block alert-danger\">\n",
    "<b> Mach et rapport de pression statique à travers un choc droit </b>\n",
    "$$ \n",
    "M ^{2}_{2} = \\dfrac{2+(\\gamma - 1) M^2_1}{2 \\gamma M^2_1 - (\\gamma-1)} \\qquad \\qquad\n",
    "\\dfrac{p_2}{p_1} = \\frac {2 \\gamma M^2_1 -(\\gamma-1)}{\\gamma + 1}$$\n",
    "</div> \n",
    "\n",
    "* Relations entre les pressions isentropiques\n",
    "\n",
    "\n",
    "<div class=\"alert alert-block alert-danger\">\n",
    "<b> Rapport des pression isentropiques à travers un choc droit </b>\n",
    "$$\n",
    " \\dfrac{p _{i_2}}{p _{i_1}} =  \\dfrac{\\rho _{i_2}}{\\rho _{i_1}} =\\left[\\dfrac {2\\gamma M^2_1\n",
    "-(\\gamma-1)}{\\gamma + 1} \\right]^{-\\dfrac{1}{\\gamma-1}} \\left[\\dfrac {(\\gamma + 1)  M^2_1}{2+ (\\gamma-1)M^2_1 } \\right]^{ \\dfrac{\\gamma}{\\gamma-1}} \n",
    "$$\n",
    "</div> \n",
    "\n",
    "* Relations entre les températures, les masses volumiques et les vitesses\n",
    "\n",
    "<div class=\"alert alert-block alert-info\">\n",
    "<b> Températures, masse volumiques et vitesses à travers un choc droit </b>\n",
    "$$ T_{i_2} = T_{i_1},  \\qquad \\qquad \\frac{T _2}{T _1} =  \\frac {\\left[2\\gamma M^2_1 -(\\gamma-1)\\right]\n",
    "\\left[2+ (\\gamma-1)M^{2}_{1}\\right] }{\\left(\\gamma + 1 \\right)^2 M^{2}_{1}}, \\qquad \\qquad\n",
    "\\frac{\\rho _2}{\\rho _1}  =  \\frac {(\\gamma + 1)  M^2_1}{2+ (\\gamma-1)M^2_1 } = \\frac{u_1}{u_2 }\n",
    "$$\n",
    "</div> \n",
    "\n",
    "\n",
    "* Dans notre cas on préfère la relation inversée sur les nombres de Mach:\n",
    "\n",
    "<div class=\"alert alert-block alert-success\">\n",
    "<b> Mach amont en fonction du Mach aval à travers un choc droit </b>\n",
    "$$M ^2_1=\\dfrac{2+(\\gamma - 1) M^2_2}{2 \\gamma M^2_2 - (\\gamma-1)}   \\tag{éq. $M_{amont}$}$$\n",
    "</div> \n",
    "\n",
    "\n"
   ]
  },
  {
   "cell_type": "markdown",
   "id": "a20aa472",
   "metadata": {},
   "source": [
    "## **<span style=\"color:green\">V-2 Vitesse calibrée</span>**\n",
    "\n",
    "La vitesse calibrée **CAS** est définie à partir du nombre de Mach pour les écoulements supersoniques:\n",
    "\n",
    "\n",
    "<div class=\"alert alert-block alert-danger\">\n",
    "<b> CAS: Vitesse calibrée en supersonique </b>\n",
    "\n",
    "$$\n",
    "CAS = M_1 \\times a_0  \n",
    "$$\n",
    "</div> \n",
    "\n",
    "On sait que la vitesse réelle est $TAS = M_1 \\times a_1$ alors les relations suivantes:\n",
    "\n",
    "\n",
    "<div class=\"alert alert-block alert-info\">\n",
    "<b>Relations supplémentaires pour la CAS</b>\n",
    "    \n",
    "$$\n",
    "CAS = M_1 \\times a_0 = TAS ~ \\dfrac{a_0}{a_1} = TAS~\\sqrt{\\dfrac{T_0}{T_1}} = \\dfrac{TAS}{\\sqrt{\\Theta}} \n",
    "$$\n",
    "</div> \n",
    "\n",
    "On mesure $\\Delta p = $ \n",
    "La vitesse calibrée mesurée à partir de la vitesse indiquée corrigée est calculée en fonction de la mesure du tube de Pitot double par\n",
    "\n",
    "<div class=\"alert alert-block alert-danger\">\n",
    "<b> Variation de pression mesurée par un tube de Pitot</b>\n",
    "    \n",
    "$$\n",
    "1 + \\dfrac{\\Delta p}{p_0} \\approx \\dfrac{p_{i_2}}{p_1}\n",
    "$$\n",
    "</div> \n",
    "\n",
    "Par les relations aérodynamiques on écrit:\n",
    "\n",
    "\n",
    "$$\n",
    " \\dfrac{p_{i_2}}{p_1} =   \\dfrac{p_{i_2}}{p_{i_1}}~\\dfrac{p_{i_1}}{p_1} =  \\dfrac{p_{i_2}}{p_{i_1}} \n",
    " \\left( 1 +\\frac{\\gamma-1}{2}M_1^2\\right)^{\\dfrac{\\gamma}{\\gamma-1}} \n",
    "$$\n",
    "\n",
    "\\begin{eqnarray}\n",
    " \\dfrac{p _{i_2}}{p _{i_1}}  &=&\\left[\\dfrac {2\\gamma M^2_1\n",
    "-(\\gamma-1)}{\\gamma + 1} \\right]^{-\\dfrac{1}{\\gamma-1}} \\left[\\dfrac {(\\gamma + 1)  M^2_1}{2+ (\\gamma-1)M^2_1 } \\right]^{ \\dfrac{\\gamma}{\\gamma-1}} \\\\\n",
    "&=& \\left[\\dfrac {\\gamma-1}{\\gamma + 1} \\right]^{-\\dfrac{1}{\\gamma-1}}  \\times \n",
    " \\left[\\dfrac{2\\gamma}{\\gamma-1} M^2_1 -1 \\right]^{-\\dfrac{1}{\\gamma-1}}  \\times \n",
    " \\left[\\dfrac {(\\gamma + 1)}{2}\\right]^{ \\dfrac{\\gamma}{\\gamma-1}} \\times\n",
    " \\left[\\dfrac {M^2_1}{1+ \\dfrac{\\gamma-1}{2}M^2_1 } \\right]^{ \\dfrac{\\gamma}{\\gamma-1}} \n",
    "\\end{eqnarray}\n",
    "\n",
    "Après simplication on trouve l'équation du Pitot double de Rayleigh:\n",
    "\n",
    "<div class=\"alert alert-block alert-success\">\n",
    "<b>Relation de Rayleigh pour le pitot supersonique</b>\n",
    "$$\n",
    "\\dfrac{p_{i_2}}{p_1} = \\left[\\dfrac {\\gamma-1}{\\gamma + 1} \\right]^{-\\dfrac{1}{\\gamma-1}} \\left[\\dfrac {(\\gamma + 1)}{2}\\right]^{ \\dfrac{\\gamma}{\\gamma-1}} \\left[\\dfrac{2\\gamma}{\\gamma-1} M^2_1 -1 \\right]^{-\\dfrac{1}{\\gamma-1}}\n",
    "M_1^{\\dfrac{2\\gamma}{\\gamma-1}} \n",
    "$$\n",
    "</div>\n",
    "\n",
    "Si on pose $\\gamma=1.4$ cette relation devient:\n",
    "$$\n",
    "\\dfrac{p_{i_2}}{p_1} = 6^{5/2} 1.2^{7/2} \\left[7 M^2_1 -1 \\right]^{-5/2} M_1^7 = 1 + \\dfrac{\\Delta p}{p_0}\n",
    "$$\n",
    "on retrouve la relation donnée au début :\n",
    "\n",
    "$$\n",
    "6^{5/2} 1.2^{7/2}  M_1^7 =  \\left(1 + \\dfrac{\\Delta p}{p_0}\\right) \\left[7 M^2_1 -1 \\right]^{5/2}\n",
    "$$\n",
    "Cette équation se résout de manière itérative en démarrant avec $M_1$ = 1 puis en augmentant puisque $M_1 > 1$.\n",
    "\n",
    "On trouve alors la vitesse $CAS = M_1 \\times a_0$.\n",
    "\n",
    "Ou bien on fait le même travail à partir de cette équation (la même après manipulations):\n",
    "\n",
    "<div class=\"alert alert-block alert-success\">\n",
    "<b> Vitesse calibrée en supersonique </b>\n",
    " $$\n",
    " CAS = a_0 \\left [\\left(1 + \\dfrac{q}{p_0} \\right) \\dfrac{\\left(7 (CAS/a_0)^2-1\\right)^{5/2}}{6^{5/2} 1.2^{7/2}}  \\right] ^{1/7}\n",
    " $$\n",
    " </div>\n",
    "\n",
    "\n",
    "Dans la réalité c'est légèrement différent. On pourra se renseigner si on est intéressé.\n",
    "\n",
    "La valeur minimale de $\\dfrac{p_{i_2}}{p_1}$ en supersonique est pour la valeur de $M_1=1$:\n",
    "\n",
    "$$\n",
    "\\dfrac{p_{i_2}}{p_1}_{\\min} = \\left[\\dfrac {(\\gamma + 1)}{2}\\right]^{ \\dfrac{\\gamma}{\\gamma-1}} = 1 + \\dfrac{\\Delta p}{p_0} = 1.893\n",
    "$$\n",
    "\n",
    "Autrement dit si on obtient pas la mesure une valeur de $\\Delta p < 0.893$ on sait que l'avion n'est pas encore en vol supersonique."
   ]
  },
  {
   "cell_type": "markdown",
   "id": "76da631b",
   "metadata": {},
   "source": [
    "## **<span style=\"color:green\">V-3 Méthodologie</span>**\n",
    "\n",
    "Les instruments nous donnent :\n",
    "1. La pression statique $p_1$ et la  pression d'arrêt : $p_{i_2}$.\n",
    "2. Une jauge de température nous donne aussi $T_{i_2} = T_{i_1}$.\n",
    "\n",
    "1: amont du choc, 2: aval du choc sur le tube de Pitot.\n",
    "\n",
    "En fonction des données, doit adopter différentes stratégies de résolution.\n",
    "\n",
    "Les codes sont disponibles dans le module. Il faut juste trouver la bonne méthode et l'implémenter ici.\n",
    "\n",
    "On va considérer 3 cas:\n",
    "\n",
    "1. on connaît: $h = 10000$ m et $M_1=1.8$\n",
    "2. on connaît:  $p_2 = 119000$ Pa, $q_{c_2} = 30000$ Pa et $T_{i_2} = 401.7$ K\n",
    "3. on connaît: $\\dfrac{\\Delta p}{p_0} = 4.1$, $p_1 = 28000$ Pa et  $T_{i_1} = 402$ K\n",
    "\n",
    "Il faut sortir toutes les grandeurs pour l'état 1 et 2, ainsi que les valeurs relatives à l'atmosphère pour les 3 cas.\n",
    "\n",
    "Ensuite il faut écrire des commentaires.\n"
   ]
  },
  {
   "cell_type": "markdown",
   "id": "82cf0eb7",
   "metadata": {},
   "source": [
    "## Cas 1\n",
    "\n",
    "**Commentaires** \n",
    "\n"
   ]
  },
  {
   "cell_type": "code",
   "execution_count": null,
   "id": "808edd52",
   "metadata": {},
   "outputs": [],
   "source": [
    "# cas 1: code"
   ]
  },
  {
   "cell_type": "markdown",
   "id": "b78a1224",
   "metadata": {},
   "source": [
    "## Cas 2\n",
    "\n",
    "**Commentaires** \n",
    "\n"
   ]
  },
  {
   "cell_type": "code",
   "execution_count": null,
   "id": "35d3b65c",
   "metadata": {},
   "outputs": [],
   "source": [
    "# cas 2: code"
   ]
  },
  {
   "cell_type": "markdown",
   "id": "98f35063",
   "metadata": {},
   "source": [
    "## Cas 3\n",
    "\n",
    "**Commentaires** \n",
    "\n"
   ]
  },
  {
   "cell_type": "code",
   "execution_count": null,
   "id": "af15453d",
   "metadata": {},
   "outputs": [],
   "source": [
    "# cas 2: code"
   ]
  },
  {
   "cell_type": "markdown",
   "id": "ee21e030",
   "metadata": {},
   "source": [
    "# Conclusion du TP:\n",
    "\n",
    "\n"
   ]
  },
  {
   "cell_type": "code",
   "execution_count": null,
   "id": "0c87dde0",
   "metadata": {},
   "outputs": [],
   "source": []
  }
 ],
 "metadata": {
  "kernelspec": {
   "display_name": "Python 3 (ipykernel)",
   "language": "python",
   "name": "python3"
  },
  "language_info": {
   "codemirror_mode": {
    "name": "ipython",
    "version": 3
   },
   "file_extension": ".py",
   "mimetype": "text/x-python",
   "name": "python",
   "nbconvert_exporter": "python",
   "pygments_lexer": "ipython3",
   "version": "3.10.10"
  }
 },
 "nbformat": 4,
 "nbformat_minor": 5
}
